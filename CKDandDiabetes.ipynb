{
 "cells": [
  {
   "cell_type": "markdown",
   "id": "1f2ca160",
   "metadata": {},
   "source": [
    "# This file will be used to study CKD, organized"
   ]
  },
  {
   "cell_type": "markdown",
   "id": "03abb602",
   "metadata": {},
   "source": []
  }
 ],
 "metadata": {
  "language_info": {
   "name": "python"
  }
 },
 "nbformat": 4,
 "nbformat_minor": 5
}
