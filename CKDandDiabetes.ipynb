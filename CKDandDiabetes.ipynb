{
 "cells": [
  {
   "cell_type": "markdown",
   "id": "1f2ca160",
   "metadata": {},
   "source": [
    "# This file will be used to study CKD, organized"
   ]
  },
  {
   "cell_type": "markdown",
   "id": "03abb602",
   "metadata": {},
   "source": [
    "## Prelminary installation and file info "
   ]
  },
  {
   "cell_type": "markdown",
   "id": "aa2ee061",
   "metadata": {},
   "source": [
    "First we import the packages we use:"
   ]
  },
  {
   "cell_type": "code",
   "execution_count": 1,
   "id": "c458c04b",
   "metadata": {},
   "outputs": [],
   "source": [
    "import pandas as pd\n",
    "import numpy as np\n",
    "import matplotlib.pyplot as plt"
   ]
  },
  {
   "cell_type": "markdown",
   "id": "baca894e",
   "metadata": {},
   "source": [
    "### File summary:\n",
    "For the files we use, they are organized in `proj_files_csv` folder of this repository. \n",
    "proj_files_csv has 5 folders: `democsv`, `biocsv`, `albucsv`, `a1ccsv`, `FPGcsv`. Each of these has csv files corresponding to years we are interested in. "
   ]
  },
  {
   "cell_type": "code",
   "execution_count": 2,
   "id": "c78f0532",
   "metadata": {},
   "outputs": [],
   "source": [
    "years = ['9900', '0102', '0304', '0506', '0708','0910','1112','1314','1516','1720']"
   ]
  },
  {
   "cell_type": "markdown",
   "id": "67b0f71f",
   "metadata": {},
   "source": [
    "#### Here will be some information of what files are used for what. Note all the csv files have a SEQN column which is the identification number for each participant.\n",
    "\n",
    "For both CKD and Diabetes:\n",
    "-   `democsv`: Folder has demographics data, will use RIDAGEYR column for age and RIAGENDR column for gender \n",
    "\n",
    "For only CKD:\n",
    "-   `biocsv` is folder with the standard biochemistry profile files. From these we use the LBXSCR column which says the serum creatinine in mg/dL\n",
    "-   `albucsv` is the folder with files used for the albumin creatinine ratio. URXUMS is the urine albumin in mg/L. URXCRS is the urine creatinine in umol/L. We can divide by 1000 to get mmol/L Then we will take albumin divided by creatinine to get the ratio in (mg/mmol)\n",
    "\n",
    "For only Diabetes:\n",
    "-   `a1ccsv` is the folder with files for the a1c. DIQ010, DIQ160 columns are the participants reporting if they've been diagnosed for diabetes and prediabetes, respectively. 1 is yes, 2 is no, 3 is borderline, 7 is refused, 9 is don't know. DIQ280 is the column with the a1c value\n",
    "-   `FPGcsv` is the folder with the fasting plasma glucose files. The LBXGLU column has the fasting plasma glucose measured in (mg/dL)\n",
    "\n"
   ]
  },
  {
   "cell_type": "markdown",
   "id": "a2bdccb2",
   "metadata": {},
   "source": [
    "#### Here we'll get the demographic data since it will be used for both"
   ]
  },
  {
   "cell_type": "code",
   "execution_count": 3,
   "id": "fa866143",
   "metadata": {},
   "outputs": [
    {
     "name": "stdout",
     "output_type": "stream",
     "text": [
      "The demo_vars list contains dataframes for each year. It has length:  10\n",
      "\n",
      " The first dataframe in the list (for year 1999-2000) looks like this:\n",
      "   SEQN  RIAGENDR  RIDAGEYR\n",
      "0   1.0       2.0       2.0\n",
      "1   2.0       1.0      77.0\n",
      "2   3.0       2.0      10.0\n",
      "3   4.0       1.0       1.0\n",
      "4   5.0       1.0      49.0\n",
      "Note RIAGENDR gender (1 male, 2 female) and RIDAGEYR is age (in years)).\n",
      "\n",
      " In addition, SEQN is a unique identifier for each participant in the survey.\n"
     ]
    }
   ],
   "source": [
    "demo_vars = []\n",
    "for y in years:\n",
    "    df  = pd.read_csv(f'proj_files_csv/democsv/demo{y}.csv', usecols=['SEQN', 'RIDAGEYR', 'RIAGENDR'])\n",
    "    demo_vars.append(df)\n",
    "\n",
    "#print(demo_vars)\n",
    "#print(len(demo_vars))\n",
    "\n",
    "print(\"The demo_vars list contains dataframes for each year. It has length: \", len(demo_vars))\n",
    "print(\"\\n The first dataframe in the list (for year 1999-2000) looks like this:\") \n",
    "print(demo_vars[0].head())\n",
    "print(\"Note RIAGENDR gender (1 male, 2 female) and RIDAGEYR is age (in years)).\")\n",
    "print( \"\\n In addition, SEQN is a unique identifier for each participant in the survey.\")"
   ]
  },
  {
   "cell_type": "markdown",
   "id": "801f4c06",
   "metadata": {},
   "source": [
    "## CKD Data and analysis"
   ]
  },
  {
   "cell_type": "markdown",
   "id": "0f3aa42d",
   "metadata": {},
   "source": [
    "#### We'll get the serum creatinine and urine albumin creatinine ratio data next."
   ]
  },
  {
   "cell_type": "markdown",
   "id": "3d8f2834",
   "metadata": {},
   "source": [
    "This is the serum creatinine data. "
   ]
  },
  {
   "cell_type": "code",
   "execution_count": 4,
   "id": "05922d81",
   "metadata": {},
   "outputs": [
    {
     "name": "stdout",
     "output_type": "stream",
     "text": [
      "\n",
      "The bio_vars list contains dataframes for each year. It has length:  10\n",
      "\n",
      "The first dataframe in the list (for year 1999-2000) looks like this:\n",
      "   SEQN  LBXSCR\n",
      "0   2.0     0.7\n",
      "1   5.0     0.8\n",
      "2   6.0     0.5\n",
      "3   7.0     0.6\n",
      "4   8.0     0.3\n",
      "Note LBXSCR is the serum creatinine level (in mg/dL).\n",
      "\n",
      "In addition, SEQN is a unique identifier for each participant in the survey.\n"
     ]
    }
   ],
   "source": [
    "bio_vars = []\n",
    "for y in years:\n",
    "    df  = pd.read_csv(f'proj_files_csv/biocsv/bio{y}.csv', usecols=['SEQN', 'LBXSCR'])\n",
    "    bio_vars.append(df)\n",
    "\n",
    "print(\"\\nThe bio_vars list contains dataframes for each year. It has length: \", len(bio_vars))\n",
    "print(\"\\nThe first dataframe in the list (for year 1999-2000) looks like this:\")\n",
    "print(bio_vars[0].head())\n",
    "print(\"Note LBXSCR is the serum creatinine level (in mg/dL).\")\n",
    "print(\"\\nIn addition, SEQN is a unique identifier for each participant in the survey.\")\n",
    "\n",
    "#print(bio_vars)\n",
    "#print(len(bio_vars))"
   ]
  },
  {
   "cell_type": "markdown",
   "id": "3ba71633",
   "metadata": {},
   "source": [
    "Here is the albuminuria data for each year:"
   ]
  },
  {
   "cell_type": "code",
   "execution_count": 5,
   "id": "e7510935",
   "metadata": {},
   "outputs": [
    {
     "name": "stdout",
     "output_type": "stream",
     "text": [
      "\n",
      "The albu_vars list contains dataframes for each year. It has length:  10\n",
      "\n",
      "The first dataframe in the list (for year 1999-2000) looks like this:\n",
      "   SEQN  URXUMS   URXCRS  URXCRSnew  albcretratio\n",
      "0   2.0     9.1  12818.0     12.818      0.709939\n",
      "1   3.0    10.4  11138.0     11.138      0.933740\n",
      "2   5.0     6.1  15205.0     15.205      0.401184\n",
      "3   6.0     5.0  10962.0     10.962      0.456121\n",
      "4   7.0     6.7  11315.0     11.315      0.592134\n",
      "Note URXUMS is the urine albumin level (in mg/L) and URXCRS is the urine creatinine level (in umol/L).\n",
      " URXCRSnew is the urine creatinine level converted to mmol/L.\n",
      "\n",
      "The albcretratio is the albumin to creatinine ratio (in mg/mmol).\n"
     ]
    }
   ],
   "source": [
    "albu_vars = []\n",
    "for y in years:\n",
    "    df  = pd.read_csv(f'proj_files_csv/albucsv/albu{y}.csv', usecols=['SEQN', 'URXUMS','URXCRS' ])\n",
    "    df['URXCRSnew'] = df['URXCRS']/1000\n",
    "    df['albcretratio'] = df['URXUMS']/df['URXCRSnew']\n",
    "    #df = df[['SEQN', 'albcretratio']]\n",
    "    albu_vars.append(df)\n",
    "\n",
    "print(\"\\nThe albu_vars list contains dataframes for each year. It has length: \", len(albu_vars))\n",
    "print(\"\\nThe first dataframe in the list (for year 1999-2000) looks like this:\")\n",
    "print(albu_vars[0].head())\n",
    "#print(albu_vars[0].columns)\n",
    "print(\"Note URXUMS is the urine albumin level (in mg/L) and URXCRS is the urine creatinine level (in umol/L).\\n URXCRSnew is the urine creatinine level converted to mmol/L.\")\n",
    "\n",
    "print(\"\\nThe albcretratio is the albumin to creatinine ratio (in mg/mmol).\")\n",
    "\n",
    "\n",
    "#print(albu_vars)\n",
    "#print(len(albu_vars))"
   ]
  },
  {
   "cell_type": "markdown",
   "id": "777b4bb6",
   "metadata": {},
   "source": [
    "Merging the dataframes, we will use SEQN, serum creatinine, and albumin to creatinine ratio as the main variables of interest.:"
   ]
  },
  {
   "cell_type": "code",
   "execution_count": 6,
   "id": "8195c4f3",
   "metadata": {},
   "outputs": [
    {
     "name": "stdout",
     "output_type": "stream",
     "text": [
      "\n",
      "The demobio_vars list contains dataframes with serum creatinine and albu creatinine ratio for each year. It has length:  10\n",
      "\n",
      " Note this is ages 12 to 84 (all ages)\n",
      "\n",
      "The first dataframe in the list (for year 1999-2000) looks like this:\n",
      "   SEQN  RIDAGEYR  RIAGENDR  LBXSCR  albcretratio\n",
      "0   2.0      77.0       1.0     0.7      0.709939\n",
      "1   5.0      49.0       1.0     0.8      0.401184\n",
      "2   6.0      19.0       2.0     0.5      0.456121\n",
      "3   7.0      59.0       2.0     0.6      0.592134\n",
      "4   8.0      13.0       1.0     0.3      0.570307\n"
     ]
    }
   ],
   "source": [
    "demobio_vars = []\n",
    "for i in range(len(years)):\n",
    "    demot = demo_vars[i]\n",
    "    biot = bio_vars[i]\n",
    "    albut = albu_vars[i]\n",
    "    demobiot = pd.merge(demot,biot, on = 'SEQN')\n",
    "    demobiot = pd.merge(demobiot,albut, on = 'SEQN')\n",
    "    demobiot = (demobiot.dropna())\n",
    "    demobiot = demobiot[['SEQN', 'RIDAGEYR', 'RIAGENDR', 'LBXSCR', 'albcretratio']]\n",
    "    demobiot = demobiot[(demobiot['RIDAGEYR'] >= 12) & (demobiot['RIDAGEYR']<85)]\n",
    "    demobio_vars.append(demobiot)\n",
    "\n",
    "print(\"\\nThe demobio_vars list contains dataframes with serum creatinine and albu creatinine ratio for each year. It has length: \", len(demobio_vars))\n",
    "print(\"\\n Note this is ages 12 to 84 (all ages)\")\n",
    "print(\"\\nThe first dataframe in the list (for year 1999-2000) looks like this:\")\n",
    "print(demobio_vars[0].head())\n",
    "\n",
    "\n",
    "#print(len(demobio_vars))\n",
    "#print(demobio_vars[3].head())\n",
    "#print(demobio_vars[3].size)"
   ]
  },
  {
   "cell_type": "code",
   "execution_count": null,
   "id": "28ba6124",
   "metadata": {},
   "outputs": [],
   "source": []
  },
  {
   "cell_type": "markdown",
   "id": "eed0282e",
   "metadata": {},
   "source": [
    "We'll now make the following functions:\n",
    "-   A function for eGFR\n",
    "-   A function called eGFR_stage which says their predicted CKD stage off the eGFR and albuminuria\n"
   ]
  },
  {
   "cell_type": "code",
   "execution_count": 7,
   "id": "dbafc04f",
   "metadata": {},
   "outputs": [],
   "source": [
    "#Here is the function for eGFR (esitimated Glomerular Filtration Rate)\n",
    "def eGFR(row):\n",
    "    if row['RIAGENDR'] == 1:\n",
    "        return 142 * min(row['LBXSCR']/0.9, 1)**(-0.302) * max(row['LBXSCR']/0.9, 1)**(-1.200) * 0.9938**row['RIDAGEYR']\n",
    "    elif row['RIAGENDR'] == 2:\n",
    "        return 142 * min(row['LBXSCR']/0.7, 1)**(-0.241) * max(row['LBXSCR']/0.7, 1)**(-1.200) * 0.9938**row['RIDAGEYR'] * 1.012\n",
    "    \n",
    "#here is a function to determine what stage it is based on https://www.kidneyfund.org/all-about-kidneys/stages-kidney-disease\n",
    "def ckd_stage(row):\n",
    "    if row['eGFR'] >= 60 and row['albcretratio'] < 3.4:\n",
    "        return 0\n",
    "    elif row['eGFR'] >= 90 and row['albcretratio'] >= 3.4:\n",
    "        return 1\n",
    "    elif row['eGFR'] >= 60 and row['albcretratio'] >= 3.4:\n",
    "        return 2\n",
    "    elif row['eGFR'] >= 30:\n",
    "        return 3\n",
    "    elif row['eGFR'] >= 15:\n",
    "        return 4\n",
    "    else:\n",
    "        return 5\n"
   ]
  },
  {
   "cell_type": "markdown",
   "id": "ad361a41",
   "metadata": {},
   "source": [
    "Applying the functions onto the dataframes:"
   ]
  },
  {
   "cell_type": "code",
   "execution_count": 8,
   "id": "e73f27d7",
   "metadata": {},
   "outputs": [
    {
     "name": "stdout",
     "output_type": "stream",
     "text": [
      "\n",
      "The first dataframe in the list (for year 1999-2000) with eGFR and CKD stage looks like this:\n",
      "   SEQN  RIDAGEYR  RIAGENDR  LBXSCR  albcretratio        eGFR  ckdstage\n",
      "0   2.0      77.0       1.0     0.7      0.709939   94.901350         0\n",
      "1   5.0      49.0       1.0     0.8      0.401184  108.489332         0\n",
      "2   6.0      19.0       2.0     0.5      0.456121  138.473468         0\n",
      "3   7.0      59.0       2.0     0.6      0.592134  103.334082         0\n",
      "4   8.0      13.0       1.0     0.3      0.570307  182.501259         0\n",
      "\n",
      "Note eGFR is the estimated Glomerular Filtration Rate (in mL/min/1.73m^2) and ckdstage is the stage of Chronic Kidney Disease (0-5).\n"
     ]
    }
   ],
   "source": [
    "for i in range(len(demobio_vars)):\n",
    "    demobio_vars[i]['eGFR'] = demobio_vars[i].apply(eGFR, axis=1)\n",
    "    demobio_vars[i]['ckdstage'] = demobio_vars[i].apply(ckd_stage, axis=1)\n",
    "    #print(demobio_vars[i].shape)\n",
    "\n",
    "print(\"\\nThe first dataframe in the list (for year 1999-2000) with eGFR and CKD stage looks like this:\")\n",
    "print(demobio_vars[0].head())\n",
    "print(\"\\nNote eGFR is the estimated Glomerular Filtration Rate (in mL/min/1.73m^2) and ckdstage is the stage of Chronic Kidney Disease (0-5).\")"
   ]
  },
  {
   "cell_type": "code",
   "execution_count": 9,
   "id": "3c460b52",
   "metadata": {},
   "outputs": [
    {
     "name": "stdout",
     "output_type": "stream",
     "text": [
      "\n",
      "The CKD stage counts for all the years are:\n",
      "   9900  0102  0304  0506  0708  0910  1112  1314  1516  1720\n",
      "0  5249  5716  5344  5230  5164  5764  4926  5414  5192  7719\n",
      "1   542   483   371   464   449   390   418   426   405   638\n",
      "2   109   166   188   175   240   206   188   207   211   333\n",
      "3   117   264   284   318   359   382   327   361   319   549\n",
      "4     7    23    24    23    33    29    35    31    26    51\n",
      "5    12     5     3     9     7    18    17    12    12    18\n",
      "\n",
      "The CKD stage counts for all the years, the left most column is the CKD stage and the top row is the year. \n",
      " The values are the counts of participants in each CKD stage for that year.\n",
      "\n",
      "The same CKD stage amounts as percentages (%) for all the years are:\n",
      "    9900   0102   0304   0506   0708   0910   1112   1314   1516   1720\n",
      "0  86.96  85.86  86.00  84.10  82.60  84.90  83.34  83.92  84.22  82.93\n",
      "1   8.98   7.26   5.97   7.46   7.18   5.74   7.07   6.60   6.57   6.85\n",
      "2   1.81   2.49   3.03   2.81   3.84   3.03   3.18   3.21   3.42   3.58\n",
      "3   1.94   3.97   4.57   5.11   5.74   5.63   5.53   5.60   5.17   5.90\n",
      "4   0.12   0.35   0.39   0.37   0.53   0.43   0.59   0.48   0.42   0.55\n",
      "5   0.20   0.08   0.05   0.14   0.11   0.27   0.29   0.19   0.19   0.19\n"
     ]
    }
   ],
   "source": [
    "print(\"\\nThe CKD stage counts for all the years are:\")\n",
    "ckdvaluecounts = pd.DataFrame()\n",
    "for i in range(len(demobio_vars)):\n",
    "    ckdvaluecounts = pd.concat([ckdvaluecounts, demobio_vars[i]['ckdstage'].value_counts().rename(years[i])], axis=1)\n",
    "    ckdvaluecounts = ckdvaluecounts.sort_index(key=lambda x: x.astype(int))\n",
    "print(ckdvaluecounts)\n",
    "print(\"\\nThe CKD stage counts for all the years, the left most column is the CKD stage and the top row is the year. \\n The values are the counts of participants in each CKD stage for that year.\")\n",
    "print(\"\\nThe same CKD stage amounts as percentages (%) for all the years are:\")\n",
    "\n",
    "ckdvaluecounts2 = pd.DataFrame()\n",
    "for i in range(len(demobio_vars)):\n",
    "    ckdvaluecounts2 = pd.concat([ckdvaluecounts2, demobio_vars[i]['ckdstage'].value_counts(1).rename(years[i])], axis=1)\n",
    "    ckdvaluecounts2[str(years[i])] = ((ckdvaluecounts2[str(years[i])]*100).round(2))\n",
    "    ckdvaluecounts2.index = ckdvaluecounts2.index.astype(int)\n",
    "    ckdvaluecounts2 = ckdvaluecounts2.sort_index()\n",
    "print(ckdvaluecounts2)\n"
   ]
  },
  {
   "cell_type": "code",
   "execution_count": 10,
   "id": "24f0a7c0",
   "metadata": {},
   "outputs": [
    {
     "data": {
      "text/plain": [
       "ckdstage\n",
       "0    5344\n",
       "1     371\n",
       "3     284\n",
       "2     188\n",
       "4      24\n",
       "5       3\n",
       "Name: count, dtype: int64"
      ]
     },
     "execution_count": 10,
     "metadata": {},
     "output_type": "execute_result"
    }
   ],
   "source": [
    "demobio_vars[2]['ckdstage'].value_counts()"
   ]
  },
  {
   "cell_type": "markdown",
   "id": "751730bb",
   "metadata": {},
   "source": [
    "Now we will do the weighted Linear Regression and see the graphs"
   ]
  },
  {
   "cell_type": "code",
   "execution_count": 11,
   "id": "1db7c73a",
   "metadata": {},
   "outputs": [],
   "source": [
    " #First we will list the years again but an average of each year pair so analysis can be done.\n",
    "years2 = np.array([2000, 2002, 2004, 2006,2008,2010,2012,2014,2016,2019])\n",
    "\n",
    "import statsmodels.api as sm"
   ]
  },
  {
   "cell_type": "markdown",
   "id": "d692a76a",
   "metadata": {},
   "source": [
    "### All ages"
   ]
  },
  {
   "cell_type": "markdown",
   "id": "0d803472",
   "metadata": {},
   "source": [
    "For all ages here we will use the dataset as is without modifications"
   ]
  },
  {
   "cell_type": "markdown",
   "id": "69d1dd23",
   "metadata": {},
   "source": [
    "NTS: call it somethign other than demobio thats more clear its ckd stuff, maybe ckdvars or something. also i think it iwll be good to hvae three different datsets like from demobiovars. instead of all ages one say ckdallages and still define it sitll with age range limits so its clear"
   ]
  },
  {
   "cell_type": "code",
   "execution_count": 24,
   "id": "483d8ed3",
   "metadata": {},
   "outputs": [
    {
     "name": "stdout",
     "output_type": "stream",
     "text": [
      "The proportion of people with stage ≥1 ckd for each of the years is:\n",
      "[0.13038436 0.14135496 0.14000644 0.15902878 0.17402431 0.15097953\n",
      " 0.16663847 0.16075027 0.15782644 0.17071336]\n",
      "\n",
      "The following sample sizes for each year is:\n",
      "[6036. 6657. 6214. 6219. 6252. 6789. 5911. 6451. 6165. 9308.]\n",
      "\n",
      "The year markers for each dataset is:\n",
      "[2000 2002 2004 2006 2008 2010 2012 2014 2016 2019]\n"
     ]
    }
   ],
   "source": [
    "ckdstagenonzeropropsallages = np.array([])\n",
    "samplesizes =np.array([])\n",
    "for i in range(len(demobio_vars)):\n",
    "    ckdstagenonzeropropsallages = np.append(ckdstagenonzeropropsallages,(demobio_vars[i][demobio_vars[i]['ckdstage'] >= 1].shape[0]/demobio_vars[i].shape[0]))\n",
    "    samplesizes = np.append(samplesizes, (demobio_vars[i].shape[0]))\n",
    "print(\"The proportion of people with stage ≥1 ckd for each of the years is:\")\n",
    "print(ckdstagenonzeropropsallages)\n",
    "print(\"\\nThe following sample sizes for each year is:\")\n",
    "print(samplesizes)\n",
    "print(\"\\nThe year markers for each dataset is:\")\n",
    "print(years2)\n"
   ]
  },
  {
   "cell_type": "code",
   "execution_count": null,
   "id": "84b34381",
   "metadata": {},
   "outputs": [
    {
     "name": "stdout",
     "output_type": "stream",
     "text": [
      "                 Results: Weighted least squares\n",
      "=================================================================\n",
      "Model:              WLS              Adj. R-squared:     0.529   \n",
      "Dependent Variable: y                AIC:                -62.3078\n",
      "Date:               2025-07-26 08:51 BIC:                -61.7026\n",
      "No. Observations:   10               Log-Likelihood:     33.154  \n",
      "Df Model:           1                F-statistic:        11.13   \n",
      "Df Residuals:       8                Prob (F-statistic): 0.0103  \n",
      "R-squared:          0.582            Scale:              0.63187 \n",
      "-------------------------------------------------------------------\n",
      "           Coef.    Std.Err.      t      P>|t|     [0.025    0.975]\n",
      "-------------------------------------------------------------------\n",
      "const     -3.2364     1.0170   -3.1823   0.0130   -5.5816   -0.8912\n",
      "x1         0.0017     0.0005    3.3355   0.0103    0.0005    0.0029\n",
      "-----------------------------------------------------------------\n",
      "Omnibus:               4.770       Durbin-Watson:          1.850 \n",
      "Prob(Omnibus):         0.092       Jarque-Bera (JB):       2.036 \n",
      "Skew:                  1.099       Prob(JB):               0.361 \n",
      "Kurtosis:              3.227       Condition No.:          660523\n",
      "=================================================================\n",
      "Notes:\n",
      "[1] Standard Errors assume that the covariance matrix of the\n",
      "errors is correctly specified.\n",
      "[2] The condition number is large, 6.61e+05. This might indicate\n",
      "that there are strong multicollinearity or other numerical\n",
      "problems.\n"
     ]
    },
    {
     "name": "stderr",
     "output_type": "stream",
     "text": [
      "/opt/anaconda3/envs/erdos_spring_2025/lib/python3.12/site-packages/scipy/stats/_axis_nan_policy.py:430: UserWarning: `kurtosistest` p-value may be inaccurate with fewer than 20 observations; only n=10 observations were given.\n",
      "  return hypotest_fun_in(*args, **kwds)\n"
     ]
    }
   ],
   "source": [
    "Xdemo = sm.add_constant(years2)\n",
    "weightsdemo = samplesizes\n",
    "modeldemo = sm.WLS(ckdstagenonzeropropsallages, Xdemo, weights=weightsdemo).fit()\n",
    "print(modeldemo.summary2())\n",
    "trendlinedemo = modeldemo.predict(Xdemo)"
   ]
  },
  {
   "cell_type": "code",
   "execution_count": 19,
   "id": "4ab8fb33",
   "metadata": {},
   "outputs": [
    {
     "name": "stdout",
     "output_type": "stream",
     "text": [
      "y = -3.236428268867707 + 0.0016880628084033264x\n",
      "p-value = 0.010299157981174624\n"
     ]
    }
   ],
   "source": [
    "print(f\"y = {modeldemo.params[0]} + {modeldemo.params[1]}x\")\n",
    " #printing p value of slope\")\n",
    "print(f\"p-value = {modeldemo.pvalues[1]}\")"
   ]
  },
  {
   "cell_type": "code",
   "execution_count": 21,
   "id": "cbab9ce9",
   "metadata": {},
   "outputs": [
    {
     "data": {
      "image/png": "[encoded data removed]",
      "text/plain": [
       "<Figure size 640x480 with 1 Axes>"
      ]
     },
     "metadata": {},
     "output_type": "display_data"
    }
   ],
   "source": [
    "plt.plot(years2, ckdstagenonzeropropsallages, 'o', label='CKD stages 1-5 proportions')\n",
    "plt.plot(years2, trendlinedemo, linestyle ='--', label='Trend line')\n",
    "plt.xticks(years2)\n",
    "\n",
    "plt.xlabel('Year')\n",
    "plt.ylabel('Proportion of CKD stage ≥ 1')\n",
    "plt.title('Proportion of CKD stage ≥ 1 for all ages by year ')\n",
    "\n",
    "plt.show()"
   ]
  },
  {
   "cell_type": "markdown",
   "id": "144a4f2c",
   "metadata": {},
   "source": [
    "### Youth"
   ]
  },
  {
   "cell_type": "markdown",
   "id": "c75a7677",
   "metadata": {},
   "source": [
    "For youth we will look at ages 12 to 30 inclusive, so we will filter the dataframes to only include those ages."
   ]
  },
  {
   "cell_type": "code",
   "execution_count": 26,
   "id": "0056bff2",
   "metadata": {},
   "outputs": [
    {
     "name": "stdout",
     "output_type": "stream",
     "text": [
      "The proportion of youth with stage ≥1 ckd for each of the years is:\n",
      "[0.09500693 0.09165874 0.08073458 0.10831919 0.09561543 0.08666367\n",
      " 0.10127202 0.09742647 0.08423645 0.08185684]\n",
      "\n",
      "The following sample sizes for youth each year is:\n",
      "[2884. 3153. 2886. 2945. 1893. 2227. 2044. 2176. 2030. 2822.]\n",
      "\n",
      "The year markers for each dataset is:\n",
      "[2000 2002 2004 2006 2008 2010 2012 2014 2016 2019]\n"
     ]
    }
   ],
   "source": [
    "ckdstagenonzeropropsyouth = np.array([])\n",
    "samplesizesyouth =np.array([])\n",
    "for i in range(len(demobio_vars)):\n",
    "    youth_mask = (demobio_vars[i]['RIDAGEYR'] >= 12) & (demobio_vars[i]['RIDAGEYR'] <= 30)\n",
    "    all_youth = demobio_vars[i][youth_mask]\n",
    "    ckdstagenonzeropropsyouth = np.append(ckdstagenonzeropropsyouth,(demobio_vars[i][(demobio_vars[i]['ckdstage'] >= 1) & youth_mask].shape[0]/all_youth.shape[0]))\n",
    "    samplesizesyouth = np.append(samplesizesyouth, (all_youth.shape[0]))\n",
    "print(\"The proportion of youth with stage ≥1 ckd for each of the years is:\")\n",
    "print(ckdstagenonzeropropsyouth)\n",
    "print(\"\\nThe following sample sizes for youth each year is:\")\n",
    "print(samplesizesyouth)\n",
    "print(\"\\nThe year markers for each dataset is:\")\n",
    "print(years2)\n"
   ]
  },
  {
   "cell_type": "code",
   "execution_count": 27,
   "id": "686907b9",
   "metadata": {},
   "outputs": [
    {
     "name": "stdout",
     "output_type": "stream",
     "text": [
      "                 Results: Weighted least squares\n",
      "=================================================================\n",
      "Model:              WLS              Adj. R-squared:     -0.049  \n",
      "Dependent Variable: y                AIC:                -62.9438\n",
      "Date:               2025-07-26 09:18 BIC:                -62.3386\n",
      "No. Observations:   10               Log-Likelihood:     33.472  \n",
      "Df Model:           1                F-statistic:        0.5816  \n",
      "Df Residuals:       8                Prob (F-statistic): 0.468   \n",
      "R-squared:          0.068            Scale:              0.22337 \n",
      "-------------------------------------------------------------------\n",
      "            Coef.    Std.Err.      t      P>|t|     [0.025   0.975]\n",
      "-------------------------------------------------------------------\n",
      "const       0.8389     0.9791    0.8568   0.4165   -1.4189   3.0966\n",
      "x1         -0.0004     0.0005   -0.7626   0.4676   -0.0015   0.0008\n",
      "-----------------------------------------------------------------\n",
      "Omnibus:               0.376       Durbin-Watson:          2.303 \n",
      "Prob(Omnibus):         0.828       Jarque-Bera (JB):       0.297 \n",
      "Skew:                  0.324       Prob(JB):               0.862 \n",
      "Kurtosis:              2.459       Condition No.:          658689\n",
      "=================================================================\n",
      "Notes:\n",
      "[1] Standard Errors assume that the covariance matrix of the\n",
      "errors is correctly specified.\n",
      "[2] The condition number is large, 6.59e+05. This might indicate\n",
      "that there are strong multicollinearity or other numerical\n",
      "problems.\n"
     ]
    },
    {
     "name": "stderr",
     "output_type": "stream",
     "text": [
      "/opt/anaconda3/envs/erdos_spring_2025/lib/python3.12/site-packages/scipy/stats/_axis_nan_policy.py:430: UserWarning: `kurtosistest` p-value may be inaccurate with fewer than 20 observations; only n=10 observations were given.\n",
      "  return hypotest_fun_in(*args, **kwds)\n"
     ]
    }
   ],
   "source": [
    "weightsdemoyouth = samplesizesyouth\n",
    "modeldemoyouth = sm.WLS(ckdstagenonzeropropsyouth, Xdemo, weights=weightsdemoyouth).fit()\n",
    "print(modeldemoyouth.summary2())\n",
    "trendlinedemoyouth = modeldemoyouth.predict(Xdemo)"
   ]
  },
  {
   "cell_type": "code",
   "execution_count": 28,
   "id": "9d676350",
   "metadata": {},
   "outputs": [
    {
     "name": "stdout",
     "output_type": "stream",
     "text": [
      "y = 0.8388658607631273 + -0.00037175606048751376x\n",
      "p-value = 0.4675625863168271\n"
     ]
    }
   ],
   "source": [
    "print(f\"y = {modeldemoyouth.params[0]} + {modeldemoyouth.params[1]}x\")\n",
    " #printing p value of slope\")\n",
    "print(f\"p-value = {modeldemoyouth.pvalues[1]}\")"
   ]
  },
  {
   "cell_type": "code",
   "execution_count": 29,
   "id": "f1a31835",
   "metadata": {},
   "outputs": [
    {
     "data": {
      "image/png": "[encoded data removed]",
      "text/plain": [
       "<Figure size 640x480 with 1 Axes>"
      ]
     },
     "metadata": {},
     "output_type": "display_data"
    }
   ],
   "source": [
    "plt.plot(years2, ckdstagenonzeropropsyouth, 'o', label='CKD stages 1-5 proportions')\n",
    "plt.plot(years2, trendlinedemoyouth, linestyle ='--', label='Trend line')\n",
    "plt.xticks(years2)\n",
    "\n",
    "plt.xlabel('Year')\n",
    "plt.ylabel('Proportion of CKD stage ≥ 1')\n",
    "plt.title('Proportion of CKD stage ≥ 1 for youth by year ')\n",
    "\n",
    "plt.show()"
   ]
  },
  {
   "cell_type": "markdown",
   "id": "d4366ad7",
   "metadata": {},
   "source": [
    "### Middle aged\n"
   ]
  },
  {
   "cell_type": "markdown",
   "id": "717e39ee",
   "metadata": {},
   "source": [
    "For middleage we will look at ages 31 to 59 inclusive, so we will filter the dataframes to only include those ages."
   ]
  },
  {
   "cell_type": "code",
   "execution_count": 30,
   "id": "73b1465a",
   "metadata": {},
   "outputs": [
    {
     "name": "stdout",
     "output_type": "stream",
     "text": [
      "The proportion of middleage with stage ≥1 ckd for each of the years is:\n",
      "[0.08626374 0.09486349 0.09057592 0.11242023 0.11466983 0.08164766\n",
      " 0.1030711  0.10920852 0.10375454 0.11613427]\n",
      "\n",
      "The following sample sizes for middleage each year is:\n",
      "[1820. 2161. 1910. 2037. 2529. 2719. 2377. 2628. 2477. 3694.]\n",
      "\n",
      "The year markers for each dataset is:\n",
      "[2000 2002 2004 2006 2008 2010 2012 2014 2016 2019]\n"
     ]
    }
   ],
   "source": [
    "ckdstagenonzeropropsmiddleage = np.array([])\n",
    "samplesizesmiddleage =np.array([])\n",
    "for i in range(len(demobio_vars)):\n",
    "    middleage_mask = (demobio_vars[i]['RIDAGEYR'] >= 31) & (demobio_vars[i]['RIDAGEYR'] <= 59)\n",
    "    all_middleage = demobio_vars[i][middleage_mask]\n",
    "    ckdstagenonzeropropsmiddleage = np.append(ckdstagenonzeropropsmiddleage,(demobio_vars[i][(demobio_vars[i]['ckdstage'] >= 1) & middleage_mask].shape[0]/all_middleage.shape[0]))\n",
    "    samplesizesmiddleage = np.append(samplesizesmiddleage, (all_middleage.shape[0]))\n",
    "print(\"The proportion of middleage with stage ≥1 ckd for each of the years is:\")\n",
    "print(ckdstagenonzeropropsmiddleage)\n",
    "print(\"\\nThe following sample sizes for middleage each year is:\")\n",
    "print(samplesizesmiddleage)\n",
    "print(\"\\nThe year markers for each dataset is:\")\n",
    "print(years2)\n"
   ]
  },
  {
   "cell_type": "code",
   "execution_count": 31,
   "id": "84f9ee54",
   "metadata": {},
   "outputs": [
    {
     "name": "stdout",
     "output_type": "stream",
     "text": [
      "                 Results: Weighted least squares\n",
      "=================================================================\n",
      "Model:              WLS              Adj. R-squared:     0.226   \n",
      "Dependent Variable: y                AIC:                -59.7959\n",
      "Date:               2025-07-26 09:22 BIC:                -59.1908\n",
      "No. Observations:   10               Log-Likelihood:     31.898  \n",
      "Df Model:           1                F-statistic:        3.624   \n",
      "Df Residuals:       8                Prob (F-statistic): 0.0934  \n",
      "R-squared:          0.312            Scale:              0.29630 \n",
      "-------------------------------------------------------------------\n",
      "            Coef.    Std.Err.      t      P>|t|     [0.025   0.975]\n",
      "-------------------------------------------------------------------\n",
      "const      -2.1291     1.1722   -1.8162   0.1069   -4.8322   0.5741\n",
      "x1          0.0011     0.0006    1.9036   0.0934   -0.0002   0.0025\n",
      "-----------------------------------------------------------------\n",
      "Omnibus:              2.058        Durbin-Watson:          2.387 \n",
      "Prob(Omnibus):        0.357        Jarque-Bera (JB):       0.445 \n",
      "Skew:                 -0.501       Prob(JB):               0.800 \n",
      "Kurtosis:             3.254        Condition No.:          675522\n",
      "=================================================================\n",
      "Notes:\n",
      "[1] Standard Errors assume that the covariance matrix of the\n",
      "errors is correctly specified.\n",
      "[2] The condition number is large, 6.76e+05. This might indicate\n",
      "that there are strong multicollinearity or other numerical\n",
      "problems.\n"
     ]
    },
    {
     "name": "stderr",
     "output_type": "stream",
     "text": [
      "/opt/anaconda3/envs/erdos_spring_2025/lib/python3.12/site-packages/scipy/stats/_axis_nan_policy.py:430: UserWarning: `kurtosistest` p-value may be inaccurate with fewer than 20 observations; only n=10 observations were given.\n",
      "  return hypotest_fun_in(*args, **kwds)\n"
     ]
    }
   ],
   "source": [
    "weightsdemomiddleage = samplesizesmiddleage\n",
    "modeldemomiddleage = sm.WLS(ckdstagenonzeropropsmiddleage, Xdemo, weights=weightsdemomiddleage).fit()\n",
    "print(modeldemomiddleage.summary2())\n",
    "trendlinedemomiddleage = modeldemomiddleage.predict(Xdemo)"
   ]
  },
  {
   "cell_type": "code",
   "execution_count": 32,
   "id": "f654f793",
   "metadata": {},
   "outputs": [
    {
     "name": "stdout",
     "output_type": "stream",
     "text": [
      "y = -2.1290515891393764 + 0.0011101091484770624x\n",
      "p-value = 0.09344511687343027\n"
     ]
    }
   ],
   "source": [
    "print(f\"y = {modeldemomiddleage.params[0]} + {modeldemomiddleage.params[1]}x\")\n",
    " #printing p value of slope\")\n",
    "print(f\"p-value = {modeldemomiddleage.pvalues[1]}\")"
   ]
  },
  {
   "cell_type": "code",
   "execution_count": 33,
   "id": "0fae167c",
   "metadata": {},
   "outputs": [
    {
     "data": {
      "image/png": "[encoded data removed]",
      "text/plain": [
       "<Figure size 640x480 with 1 Axes>"
      ]
     },
     "metadata": {},
     "output_type": "display_data"
    }
   ],
   "source": [
    "plt.plot(years2, ckdstagenonzeropropsmiddleage, 'o', label='CKD stages 1-5 proportions')\n",
    "plt.plot(years2, trendlinedemomiddleage, linestyle ='--', label='Trend line')\n",
    "plt.xticks(years2)\n",
    "\n",
    "plt.xlabel('Year')\n",
    "plt.ylabel('Proportion of CKD stage ≥ 1')\n",
    "plt.title('Proportion of CKD stage ≥ 1 for middleage by year ')\n",
    "\n",
    "plt.show()"
   ]
  },
  {
   "cell_type": "markdown",
   "id": "47dca625",
   "metadata": {},
   "source": [
    "### Elderly"
   ]
  },
  {
   "cell_type": "markdown",
   "id": "ec216b2e",
   "metadata": {},
   "source": [
    "For elder we will look at ages 60 to 84 inclusive, so we will filter the dataframes to only include those ages."
   ]
  },
  {
   "cell_type": "code",
   "execution_count": 34,
   "id": "cc30e8a9",
   "metadata": {},
   "outputs": [
    {
     "name": "stdout",
     "output_type": "stream",
     "text": [
      "The proportion of elder with stage ≥1 ckd for each of the years is:\n",
      "[0.26726727 0.33283693 0.32722144 0.35650768 0.33715847 0.33098209\n",
      " 0.35771812 0.32665452 0.32870929 0.33273639]\n",
      "\n",
      "The following sample sizes for elder each year is:\n",
      "[1332. 1343. 1418. 1237. 1830. 1843. 1490. 1647. 1658. 2792.]\n",
      "\n",
      "The year markers for each dataset is:\n",
      "[2000 2002 2004 2006 2008 2010 2012 2014 2016 2019]\n"
     ]
    }
   ],
   "source": [
    "ckdstagenonzeropropselder = np.array([])\n",
    "samplesizeselder =np.array([])\n",
    "for i in range(len(demobio_vars)):\n",
    "    elder_mask = (demobio_vars[i]['RIDAGEYR'] >= 60) & (demobio_vars[i]['RIDAGEYR'] <=84)\n",
    "    all_elder = demobio_vars[i][elder_mask]\n",
    "    ckdstagenonzeropropselder = np.append(ckdstagenonzeropropselder,(demobio_vars[i][(demobio_vars[i]['ckdstage'] >= 1) & elder_mask].shape[0]/all_elder.shape[0]))\n",
    "    samplesizeselder = np.append(samplesizeselder, (all_elder.shape[0]))\n",
    "print(\"The proportion of elder with stage ≥1 ckd for each of the years is:\")\n",
    "print(ckdstagenonzeropropselder)\n",
    "print(\"\\nThe following sample sizes for elder each year is:\")\n",
    "print(samplesizeselder)\n",
    "print(\"\\nThe year markers for each dataset is:\")\n",
    "print(years2)\n"
   ]
  },
  {
   "cell_type": "code",
   "execution_count": 35,
   "id": "a8cef55b",
   "metadata": {},
   "outputs": [
    {
     "name": "stdout",
     "output_type": "stream",
     "text": [
      "                 Results: Weighted least squares\n",
      "=================================================================\n",
      "Model:              WLS              Adj. R-squared:     0.028   \n",
      "Dependent Variable: y                AIC:                -45.9406\n",
      "Date:               2025-07-26 09:25 BIC:                -45.3354\n",
      "No. Observations:   10               Log-Likelihood:     24.970  \n",
      "Df Model:           1                F-statistic:        1.257   \n",
      "Df Residuals:       8                Prob (F-statistic): 0.295   \n",
      "R-squared:          0.136            Scale:              0.80083 \n",
      "-------------------------------------------------------------------\n",
      "            Coef.    Std.Err.      t      P>|t|     [0.025   0.975]\n",
      "-------------------------------------------------------------------\n",
      "const      -2.2424     2.2944   -0.9774   0.3570   -7.5333   3.0484\n",
      "x1          0.0013     0.0011    1.1213   0.2947   -0.0014   0.0039\n",
      "-----------------------------------------------------------------\n",
      "Omnibus:              3.611        Durbin-Watson:          1.479 \n",
      "Prob(Omnibus):        0.164        Jarque-Bera (JB):       1.166 \n",
      "Skew:                 -0.812       Prob(JB):               0.558 \n",
      "Kurtosis:             3.401        Condition No.:          663840\n",
      "=================================================================\n",
      "Notes:\n",
      "[1] Standard Errors assume that the covariance matrix of the\n",
      "errors is correctly specified.\n",
      "[2] The condition number is large, 6.64e+05. This might indicate\n",
      "that there are strong multicollinearity or other numerical\n",
      "problems.\n"
     ]
    },
    {
     "name": "stderr",
     "output_type": "stream",
     "text": [
      "/opt/anaconda3/envs/erdos_spring_2025/lib/python3.12/site-packages/scipy/stats/_axis_nan_policy.py:430: UserWarning: `kurtosistest` p-value may be inaccurate with fewer than 20 observations; only n=10 observations were given.\n",
      "  return hypotest_fun_in(*args, **kwds)\n"
     ]
    }
   ],
   "source": [
    "weightsdemoelder = samplesizeselder\n",
    "modeldemoelder = sm.WLS(ckdstagenonzeropropselder, Xdemo, weights=weightsdemoelder).fit()\n",
    "print(modeldemoelder.summary2())\n",
    "trendlinedemoelder = modeldemoelder.predict(Xdemo)"
   ]
  },
  {
   "cell_type": "code",
   "execution_count": 36,
   "id": "639dcad1",
   "metadata": {},
   "outputs": [
    {
     "name": "stdout",
     "output_type": "stream",
     "text": [
      "y = -2.242437935626581 + 0.001279845857091763x\n",
      "p-value = 0.29467605393126256\n"
     ]
    }
   ],
   "source": [
    "print(f\"y = {modeldemoelder.params[0]} + {modeldemoelder.params[1]}x\")\n",
    " #printing p value of slope\")\n",
    "print(f\"p-value = {modeldemoelder.pvalues[1]}\")"
   ]
  },
  {
   "cell_type": "code",
   "execution_count": 37,
   "id": "475ef528",
   "metadata": {},
   "outputs": [
    {
     "data": {
      "image/png": "[encoded data removed]",
      "text/plain": [
       "<Figure size 640x480 with 1 Axes>"
      ]
     },
     "metadata": {},
     "output_type": "display_data"
    }
   ],
   "source": [
    "plt.plot(years2, ckdstagenonzeropropselder, 'o', label='CKD stages 1-5 proportions')\n",
    "plt.plot(years2, trendlinedemoelder, linestyle ='--', label='Trend line')\n",
    "plt.xticks(years2)\n",
    "\n",
    "plt.xlabel('Year')\n",
    "plt.ylabel('Proportion of CKD stage ≥ 1')\n",
    "plt.title('Proportion of CKD stage ≥ 1 for elder by year ')\n",
    "\n",
    "plt.show()"
   ]
  },
  {
   "cell_type": "markdown",
   "id": "26481eaf",
   "metadata": {},
   "source": [
    "## Diabetes Data and Analysis"
   ]
  },
  {
   "cell_type": "markdown",
   "id": "fbe4cd5b",
   "metadata": {},
   "source": [
    "These are the a1c files, some don't have a value so for now just filling those with NaNs. I think its okay since most years have a lot of empty values, meaning we will have to rely more on plasma fasting glucose. DIQ010 is doctor told they have diabetes, 1 is yes, 2 is no, 3 borderline, 7 refused, 9 dont know. DIQ160 is ever told you have prediabetes, 1 is yes, 2 is no, others are refused, don't know, missing"
   ]
  },
  {
   "cell_type": "code",
   "execution_count": null,
   "id": "3246f9c9",
   "metadata": {},
   "outputs": [],
   "source": []
  },
  {
   "cell_type": "code",
   "execution_count": 39,
   "id": "1c842326",
   "metadata": {},
   "outputs": [
    {
     "name": "stdout",
     "output_type": "stream",
     "text": [
      "10\n",
      "   SEQN  DIQ010  DIQ160  DIQ280\n",
      "0   1.0     2.0     NaN     NaN\n",
      "1   2.0     2.0     NaN     NaN\n",
      "2   3.0     2.0     NaN     NaN\n",
      "3   4.0     2.0     NaN     NaN\n",
      "4   5.0     2.0     NaN     NaN\n"
     ]
    }
   ],
   "source": [
    "a1c_vars = []\n",
    "for y in years:\n",
    "    dftem = pd.read_csv(f'proj_files_csv/a1ccsv/a1c{y}.csv')\n",
    "    if 'DIQ280' in dftem.columns:\n",
    "        df  = pd.read_csv(f'proj_files_csv/a1ccsv/a1c{y}.csv', usecols=['SEQN','DIQ010','DIQ160','DIQ280'])\n",
    "    elif 'DIQ160' in dftem.columns:\n",
    "        df = pd.read_csv(f'proj_files_csv/a1ccsv/a1c{y}.csv', usecols=['SEQN','DIQ010','DIQ160'])\n",
    "        df['DIQ280'] = np.nan\n",
    "    else:\n",
    "        df = pd.read_csv(f'proj_files_csv/a1ccsv/a1c{y}.csv', usecols=['SEQN','DIQ010'])\n",
    "        df['DIQ160'] = np.nan\n",
    "        df['DIQ280'] = np.nan\n",
    "    a1c_vars.append(df)\n",
    "\n",
    "#print(a1c_vars)\n",
    "print(len(a1c_vars))\n",
    "print(a1c_vars[0].head())"
   ]
  },
  {
   "cell_type": "markdown",
   "id": "197fded5",
   "metadata": {},
   "source": [
    "Here is the fasting plasma glucose, measured in mg/dL"
   ]
  },
  {
   "cell_type": "code",
   "execution_count": 40,
   "id": "28e1623c",
   "metadata": {},
   "outputs": [
    {
     "name": "stdout",
     "output_type": "stream",
     "text": [
      "10\n",
      "   SEQN  LBXGLU\n",
      "0   2.0    83.7\n",
      "1   5.0    99.9\n",
      "2   7.0    85.6\n",
      "3   8.0    84.2\n",
      "4  10.0    89.8\n"
     ]
    }
   ],
   "source": [
    "fpg_vars = []\n",
    "for y in years:\n",
    "    df  = pd.read_csv(f'proj_files_csv/FPGcsv/fpg{y}.csv', usecols=['SEQN', 'LBXGLU'])\n",
    "    fpg_vars.append(df)\n",
    "\n",
    "#print(fpg_vars)\n",
    "print(len(fpg_vars))\n",
    "print(fpg_vars[0].head())"
   ]
  },
  {
   "cell_type": "markdown",
   "id": "6ea08543",
   "metadata": {},
   "source": [
    "#### now to merge the a1c and fpg dataframes with the demobio_vars dataframes\n",
    "\n",
    "Now for diabetes:: \n",
    "For diabetes we'll merge demographics, a1c, and fpg datasets. Here we'll drop the row only if there is Nans for all entries in the row. We'll first take the survey diagnosis yes for diabetes and prediabetes, and for everyone else we'll calculate a1c and fpg criteria to see if theres undiagnosed diabetes and undiagnosed prediabetes.  I think 5 categories: diabetes, prediabetes, undiagnosed diabetes, undiagnosed prediabetes, normal glycemia.\n",
    "\n",
    "Also from that other study: \"Thus, the NHANES has laboratory test results for glycated hemoglobin (A1C) and fasting plasma glucose (FPG) that could be used to determine undiagnosed diabetes (A1C ≥6.5% [≥48 mmol/mol] or FPG ≥126 mg/dL [≥6.99 mmol/L; fast 8–<24 hours] and no self-report of diagnosed diabetes) and prediabetes (A1C 5.7%–<6.5% [39–<48 mmol/mol] or FPG 100–<126 mg/dL [5.55–<6.99 mmol/L; fast 8–<24 hours]).\"\n"
   ]
  },
  {
   "cell_type": "code",
   "execution_count": 41,
   "id": "a40776d0",
   "metadata": {},
   "outputs": [
    {
     "name": "stdout",
     "output_type": "stream",
     "text": [
      "10\n",
      "(3212, 7)\n",
      "   SEQN  RIAGENDR  RIDAGEYR  DIQ010  DIQ160  DIQ280  LBXGLU\n",
      "0   2.0       1.0      77.0     2.0     NaN     NaN    83.7\n",
      "1   5.0       1.0      49.0     2.0     NaN     NaN    99.9\n",
      "2   7.0       2.0      59.0     2.0     NaN     NaN    85.6\n",
      "3   8.0       1.0      13.0     2.0     NaN     NaN    84.2\n",
      "4  10.0       1.0      43.0     2.0     NaN     NaN    89.8\n"
     ]
    }
   ],
   "source": [
    "demoa1cfpg_vars = []\n",
    "for i in range(len(years)):\n",
    "    demot = demo_vars[i]\n",
    "    a1ct = a1c_vars[i]\n",
    "    fpgt = fpg_vars[i]\n",
    "    demoa1cfpgt = pd.merge(demot,a1ct, on = 'SEQN')\n",
    "    demoa1cfpgt = pd.merge(demoa1cfpgt,fpgt, on = 'SEQN')\n",
    "    demoa1cfpgt = demoa1cfpgt.loc[~demoa1cfpgt.drop(columns=['SEQN']).isna().all(axis=1)]\n",
    "    demoa1cfpgt = demoa1cfpgt[(demoa1cfpgt['RIDAGEYR'] >= 12) & (demoa1cfpgt['RIDAGEYR']< 85)]\n",
    "    demoa1cfpg_vars.append(demoa1cfpgt)\n",
    "print(len(demoa1cfpg_vars))\n",
    "print(demoa1cfpg_vars[0].shape)\n",
    "print(demoa1cfpg_vars[0].head())"
   ]
  },
  {
   "cell_type": "markdown",
   "id": "1d9330f3",
   "metadata": {},
   "source": [
    "DIQ010 is doctor told they have diabetes, 1 is yes, 2 is no, 3 borderline, 7 refused, 9 dont know. DIQ160 is ever told you have prediabetes, 1 is yes, 2 is no, others are refused, don't know, missing"
   ]
  },
  {
   "cell_type": "code",
   "execution_count": 44,
   "id": "8fb3583c",
   "metadata": {},
   "outputs": [],
   "source": [
    "#Here is a function to get diabetes column\n",
    "def diabetes(row):\n",
    "    if pd.notna(row['DIQ010']) and int(row['DIQ010']) == 1:\n",
    "        return 1\n",
    "    else:\n",
    "        return 0\n",
    "\n",
    "#here is prediabetes column function\n",
    "def prediabetes(row):\n",
    "    if pd.notna(row['DIQ160']) and int(row['DIQ160']) == 1:\n",
    "        return 1\n",
    "    else:\n",
    "        return 0\n",
    "\n",
    "#Here is function for undiagnosed diabetes\n",
    "def undiagdiab(row):\n",
    "    if row['diabetes'] == 0 and row['prediabetes'] == 0:\n",
    "        if (pd.notna(row['DIQ280']) and row['DIQ280'] >= 6.5):\n",
    "            return 1\n",
    "        elif (pd.notna(row['LBXGLU']) and row['LBXGLU'] > 137):\n",
    "            return 1\n",
    "        else:\n",
    "            return 0\n",
    "    return 0\n",
    "\n",
    "def undiagpred(row):\n",
    "    if row['diabetes'] == 0 and row['prediabetes'] == 0 and row['undiagdiab'] ==0:\n",
    "        if (pd.notna(row['DIQ280']) and row['DIQ280'] >= 5.7 and row['DIQ280'] < 6.5):\n",
    "            return 1\n",
    "        elif (pd.notna(row['LBXGLU']) and row['LBXGLU'] >= 117 and row['LBXGLU'] <= 137):\n",
    "            return 1\n",
    "        else:\n",
    "            return 0\n",
    "    return 0"
   ]
  },
  {
   "cell_type": "code",
   "execution_count": 45,
   "id": "7197f389",
   "metadata": {},
   "outputs": [
    {
     "name": "stdout",
     "output_type": "stream",
     "text": [
      "   SEQN  RIAGENDR  RIDAGEYR  DIQ010  DIQ160  DIQ280  LBXGLU  diabetes  \\\n",
      "0   2.0       1.0      77.0     2.0     NaN     NaN    83.7         0   \n",
      "1   5.0       1.0      49.0     2.0     NaN     NaN    99.9         0   \n",
      "2   7.0       2.0      59.0     2.0     NaN     NaN    85.6         0   \n",
      "3   8.0       1.0      13.0     2.0     NaN     NaN    84.2         0   \n",
      "4  10.0       1.0      43.0     2.0     NaN     NaN    89.8         0   \n",
      "\n",
      "   prediabetes  \n",
      "0            0  \n",
      "1            0  \n",
      "2            0  \n",
      "3            0  \n",
      "4            0  \n"
     ]
    }
   ],
   "source": [
    "for i in range(len(demoa1cfpg_vars)):\n",
    "    demoa1cfpg_vars[i]['diabetes'] = demoa1cfpg_vars[i].apply(diabetes, axis=1)\n",
    "    demoa1cfpg_vars[i]['prediabetes'] = demoa1cfpg_vars[i].apply(prediabetes, axis=1)\n",
    "print(demoa1cfpg_vars[0].head(5))"
   ]
  },
  {
   "cell_type": "code",
   "execution_count": 46,
   "id": "b8caad71",
   "metadata": {},
   "outputs": [
    {
     "name": "stdout",
     "output_type": "stream",
     "text": [
      "(3212, 11)\n",
      "   SEQN  RIAGENDR  RIDAGEYR  DIQ010  DIQ160  DIQ280  LBXGLU  diabetes  \\\n",
      "0   2.0       1.0      77.0     2.0     NaN     NaN    83.7         0   \n",
      "1   5.0       1.0      49.0     2.0     NaN     NaN    99.9         0   \n",
      "2   7.0       2.0      59.0     2.0     NaN     NaN    85.6         0   \n",
      "3   8.0       1.0      13.0     2.0     NaN     NaN    84.2         0   \n",
      "4  10.0       1.0      43.0     2.0     NaN     NaN    89.8         0   \n",
      "\n",
      "   prediabetes  undiagdiab  undiagpred  \n",
      "0            0           0           0  \n",
      "1            0           0           0  \n",
      "2            0           0           0  \n",
      "3            0           0           0  \n",
      "4            0           0           0  \n"
     ]
    }
   ],
   "source": [
    "\n",
    "for i in range(len(demoa1cfpg_vars)):\n",
    "    demoa1cfpg_vars[i]['undiagdiab'] = demoa1cfpg_vars[i].apply(undiagdiab, axis=1)\n",
    "\n",
    "for i in range(len(demoa1cfpg_vars)):\n",
    "    demoa1cfpg_vars[i]['undiagpred'] = demoa1cfpg_vars[i].apply(undiagpred, axis=1)\n",
    "\n",
    "print(demoa1cfpg_vars[0].shape)\n",
    "print(demoa1cfpg_vars[0].head(5))"
   ]
  },
  {
   "cell_type": "code",
   "execution_count": 54,
   "id": "b7e329ce",
   "metadata": {},
   "outputs": [],
   "source": [
    "#this both is a check to make sure no two columns are 1 at the same time and to get an idea of how many nonzero values there are\n",
    "#df2 = pd.DataFrame()\n",
    "for i in range(len(demoa1cfpg_vars)):\n",
    "    #demoa1cfpg_vars[i]['col2'] = demoa1cfpg_vars[i]['diabetes']+demoa1cfpg_vars[i]['prediabetes']\n",
    "    #demoa1cfpg_vars[i]['col2'] = demoa1cfpg_vars[i]['diabetes']+demoa1cfpg_vars[i]['prediabetes']+demoa1cfpg_vars[i]['undiagdiab']\n",
    "    demoa1cfpg_vars[i]['col2'] = demoa1cfpg_vars[i]['diabetes']+demoa1cfpg_vars[i]['prediabetes']+demoa1cfpg_vars[i]['undiagdiab'] +demoa1cfpg_vars[i]['undiagpred']\n",
    "    #print(df2['col2'].value_counts())\n",
    "    #print(demoa1cfpg_vars[i]['col2'].value_counts(1.0))\n",
    "    #print(df2['col2'].size)"
   ]
  },
  {
   "cell_type": "markdown",
   "id": "8d970988",
   "metadata": {},
   "source": [
    "### All ages"
   ]
  },
  {
   "cell_type": "code",
   "execution_count": 57,
   "id": "b3ed5753",
   "metadata": {},
   "outputs": [
    {
     "name": "stdout",
     "output_type": "stream",
     "text": [
      "[0.0996264  0.10856824 0.11530205 0.14072495 0.22352941 0.19771014\n",
      " 0.2012967  0.19074797 0.26637418 0.28939096]\n",
      "[2000 2002 2004 2006 2008 2010 2012 2014 2016 2019]\n",
      "[3212. 3583. 3261. 3283. 3315. 3581. 3239. 3329. 3191. 5090.]\n",
      "[[1.000e+00 2.000e+03]\n",
      " [1.000e+00 2.002e+03]\n",
      " [1.000e+00 2.004e+03]\n",
      " [1.000e+00 2.006e+03]\n",
      " [1.000e+00 2.008e+03]\n",
      " [1.000e+00 2.010e+03]\n",
      " [1.000e+00 2.012e+03]\n",
      " [1.000e+00 2.014e+03]\n",
      " [1.000e+00 2.016e+03]\n",
      " [1.000e+00 2.019e+03]]\n"
     ]
    }
   ],
   "source": [
    "diabpropsnonzeroallages = np.array([])\n",
    "weightsdiaballages = np.array([])\n",
    "for i in range(len(demoa1cfpg_vars)):\n",
    "    diabpropsnonzeroallages = np.append(diabpropsnonzeroallages,demoa1cfpg_vars[i]['col2'].value_counts(normalize=True).get(1,0))\n",
    "    weightsdiaballages = np.append(weightsdiaballages, (demoa1cfpg_vars[i].shape[0]))\n",
    "print(diabpropsnonzeroallages)\n",
    "print(years2)\n",
    "print(weightsdiaballages)\n",
    "Xdiab = sm.add_constant(years2)\n",
    "print(Xdiab)\n",
    "    #print(demoa1cfpg_vars[i].shape[0])\n",
    "    #print(demoa1cfpg_vars[i][demoa1cfpg_vars[i]['col2'] >= 1].shape[0])"
   ]
  },
  {
   "cell_type": "code",
   "execution_count": 58,
   "id": "556de8be",
   "metadata": {},
   "outputs": [
    {
     "name": "stdout",
     "output_type": "stream",
     "text": [
      "                 Results: Weighted least squares\n",
      "=================================================================\n",
      "Model:              WLS              Adj. R-squared:     0.869   \n",
      "Dependent Variable: y                AIC:                -43.5949\n",
      "Date:               2025-07-26 09:39 BIC:                -42.9897\n",
      "No. Observations:   10               Log-Likelihood:     23.797  \n",
      "Df Model:           1                F-statistic:        60.52   \n",
      "Df Residuals:       8                Prob (F-statistic): 5.34e-05\n",
      "R-squared:          0.883            Scale:              2.1790  \n",
      "------------------------------------------------------------------\n",
      "            Coef.    Std.Err.     t     P>|t|    [0.025    0.975] \n",
      "------------------------------------------------------------------\n",
      "const      -19.8951    2.5816  -7.7065  0.0001  -25.8483  -13.9419\n",
      "x1           0.0100    0.0013   7.7794  0.0001    0.0070    0.0130\n",
      "-----------------------------------------------------------------\n",
      "Omnibus:               2.779       Durbin-Watson:          2.027 \n",
      "Prob(Omnibus):         0.249       Jarque-Bera (JB):       0.514 \n",
      "Skew:                  0.462       Prob(JB):               0.773 \n",
      "Kurtosis:              3.617       Condition No.:          658288\n",
      "=================================================================\n",
      "Notes:\n",
      "[1] Standard Errors assume that the covariance matrix of the\n",
      "errors is correctly specified.\n",
      "[2] The condition number is large, 6.58e+05. This might indicate\n",
      "that there are strong multicollinearity or other numerical\n",
      "problems.\n"
     ]
    },
    {
     "name": "stderr",
     "output_type": "stream",
     "text": [
      "/opt/anaconda3/envs/erdos_spring_2025/lib/python3.12/site-packages/scipy/stats/_axis_nan_policy.py:430: UserWarning: `kurtosistest` p-value may be inaccurate with fewer than 20 observations; only n=10 observations were given.\n",
      "  return hypotest_fun_in(*args, **kwds)\n"
     ]
    }
   ],
   "source": [
    "modeldiaballages = sm.WLS(diabpropsnonzeroallages, Xdiab, weights=weightsdiaballages).fit()\n",
    "#modeldiab = sm.OLS(diabpropsnonzero, Xdiab).fit()\n",
    "print(modeldiaballages.summary2())\n",
    "trendlinediaballages = modeldiaballages.predict(Xdiab)"
   ]
  },
  {
   "cell_type": "code",
   "execution_count": 59,
   "id": "c7ba6d5e",
   "metadata": {},
   "outputs": [
    {
     "name": "stdout",
     "output_type": "stream",
     "text": [
      "y = -19.89510929984839 + 0.009993918522372488x\n",
      "p-value = 5.3372644903549776e-05\n"
     ]
    }
   ],
   "source": [
    "print(f\"y = {modeldiaballages.params[0]} + {modeldiaballages.params[1]}x\")\n",
    " #printing p value of slope\")\n",
    "print(f\"p-value = {modeldiaballages.pvalues[1]}\")"
   ]
  },
  {
   "cell_type": "code",
   "execution_count": 60,
   "id": "acec7bb4",
   "metadata": {},
   "outputs": [
    {
     "data": {
      "image/png": "[encoded data removed]",
      "text/plain": [
       "<Figure size 640x480 with 1 Axes>"
      ]
     },
     "metadata": {},
     "output_type": "display_data"
    }
   ],
   "source": [
    "plt.plot(years2, diabpropsnonzeroallages, 'o', label='data')\n",
    "plt.plot(years2, trendlinediaballages, linestyle ='--',color = 'purple' ,label='Trend line')\n",
    "plt.xlabel('Year')\n",
    "plt.ylabel('Proportion of diabetes')\n",
    "plt.title('Proportion of diabetes by year allages')\n",
    "plt.legend()\n",
    "plt.show()"
   ]
  },
  {
   "cell_type": "markdown",
   "id": "30d58e6a",
   "metadata": {},
   "source": [
    "### Youth"
   ]
  },
  {
   "cell_type": "markdown",
   "id": "7beb35e0",
   "metadata": {},
   "source": [
    "We look at ages 12 to 30 inclusive:"
   ]
  },
  {
   "cell_type": "code",
   "execution_count": 66,
   "id": "b94abdd0",
   "metadata": {},
   "outputs": [
    {
     "name": "stdout",
     "output_type": "stream",
     "text": [
      "[0.00867824 0.01665675 0.01170351 0.02454374 0.04369919 0.03849372\n",
      " 0.0340197  0.02862254 0.05043647 0.0681074 ]\n",
      "[2000 2002 2004 2006 2008 2010 2012 2014 2016 2019]\n",
      "[1498. 1681. 1538. 1589.  984. 1195. 1117. 1118. 1031. 1527.]\n",
      "[[1.000e+00 2.000e+03]\n",
      " [1.000e+00 2.002e+03]\n",
      " [1.000e+00 2.004e+03]\n",
      " [1.000e+00 2.006e+03]\n",
      " [1.000e+00 2.008e+03]\n",
      " [1.000e+00 2.010e+03]\n",
      " [1.000e+00 2.012e+03]\n",
      " [1.000e+00 2.014e+03]\n",
      " [1.000e+00 2.016e+03]\n",
      " [1.000e+00 2.019e+03]]\n"
     ]
    }
   ],
   "source": [
    "diabpropsnonzeroyouth = np.array([])\n",
    "weightsdiabyouth = np.array([])\n",
    "for i in range(len(demoa1cfpg_vars)):\n",
    "    youth_mask = (demoa1cfpg_vars[i]['RIDAGEYR'] >= 12) & (demoa1cfpg_vars[i]['RIDAGEYR'] <=30)\n",
    "    all_youth = demoa1cfpg_vars[i][youth_mask]\n",
    "    diabpropsnonzeroyouth = np.append(diabpropsnonzeroyouth,demoa1cfpg_vars[i][youth_mask]['col2'].value_counts(normalize=True).get(1,0))\n",
    "    weightsdiabyouth = np.append(weightsdiabyouth, (all_youth.shape[0]))\n",
    "print(diabpropsnonzeroyouth)\n",
    "print(years2)\n",
    "print(weightsdiabyouth)\n",
    "Xdiab = sm.add_constant(years2)\n",
    "print(Xdiab)\n",
    "    #print(demoa1cfpg_vars[i].shape[0])\n",
    "    #print(demoa1cfpg_vars[i][demoa1cfpg_vars[i]['col2'] >= 1].shape[0])"
   ]
  },
  {
   "cell_type": "code",
   "execution_count": 67,
   "id": "c72d8c6b",
   "metadata": {},
   "outputs": [
    {
     "name": "stdout",
     "output_type": "stream",
     "text": [
      "                 Results: Weighted least squares\n",
      "=================================================================\n",
      "Model:              WLS              Adj. R-squared:     0.798   \n",
      "Dependent Variable: y                AIC:                -64.6034\n",
      "Date:               2025-07-26 09:53 BIC:                -63.9983\n",
      "No. Observations:   10               Log-Likelihood:     34.302  \n",
      "Df Model:           1                F-statistic:        36.62   \n",
      "Df Residuals:       8                Prob (F-statistic): 0.000305\n",
      "R-squared:          0.821            Scale:              0.10008 \n",
      "-------------------------------------------------------------------\n",
      "           Coef.    Std.Err.      t      P>|t|     [0.025    0.975]\n",
      "-------------------------------------------------------------------\n",
      "const     -5.4226     0.9012   -6.0168   0.0003   -7.5008   -3.3443\n",
      "x1         0.0027     0.0004    6.0514   0.0003    0.0017    0.0037\n",
      "-----------------------------------------------------------------\n",
      "Omnibus:              0.729        Durbin-Watson:          1.539 \n",
      "Prob(Omnibus):        0.694        Jarque-Bera (JB):       0.315 \n",
      "Skew:                 -0.400       Prob(JB):               0.854 \n",
      "Kurtosis:             2.658        Condition No.:          659351\n",
      "=================================================================\n",
      "Notes:\n",
      "[1] Standard Errors assume that the covariance matrix of the\n",
      "errors is correctly specified.\n",
      "[2] The condition number is large, 6.59e+05. This might indicate\n",
      "that there are strong multicollinearity or other numerical\n",
      "problems.\n"
     ]
    },
    {
     "name": "stderr",
     "output_type": "stream",
     "text": [
      "/opt/anaconda3/envs/erdos_spring_2025/lib/python3.12/site-packages/scipy/stats/_axis_nan_policy.py:430: UserWarning: `kurtosistest` p-value may be inaccurate with fewer than 20 observations; only n=10 observations were given.\n",
      "  return hypotest_fun_in(*args, **kwds)\n"
     ]
    }
   ],
   "source": [
    "modeldiabyouth = sm.WLS(diabpropsnonzeroyouth, Xdiab, weights=weightsdiabyouth).fit()\n",
    "#modeldiab = sm.OLS(diabpropsnonzero, Xdiab).fit()\n",
    "print(modeldiabyouth.summary2())\n",
    "trendlinediabyouth = modeldiabyouth.predict(Xdiab)"
   ]
  },
  {
   "cell_type": "code",
   "execution_count": 68,
   "id": "74952421",
   "metadata": {},
   "outputs": [
    {
     "name": "stdout",
     "output_type": "stream",
     "text": [
      "y = -5.422565728980299 + 0.002715236665096219x\n",
      "p-value = 0.0003054460370322375\n"
     ]
    }
   ],
   "source": [
    "print(f\"y = {modeldiabyouth.params[0]} + {modeldiabyouth.params[1]}x\")\n",
    " #printing p value of slope\")\n",
    "print(f\"p-value = {modeldiabyouth.pvalues[1]}\")"
   ]
  },
  {
   "cell_type": "code",
   "execution_count": 69,
   "id": "e67c6b87",
   "metadata": {},
   "outputs": [
    {
     "data": {
      "image/png": "[encoded data removed]",
      "text/plain": [
       "<Figure size 640x480 with 1 Axes>"
      ]
     },
     "metadata": {},
     "output_type": "display_data"
    }
   ],
   "source": [
    "plt.plot(years2, diabpropsnonzeroyouth, 'o', label='data')\n",
    "plt.plot(years2, trendlinediabyouth, linestyle ='--',color = 'purple' ,label='Trend line')\n",
    "plt.xticks(years2)\n",
    "plt.xlabel('Year')\n",
    "plt.ylabel('Proportion of diabetes')\n",
    "plt.title('Proportion of diabetes by year youth')\n",
    "plt.legend()\n",
    "plt.show()"
   ]
  },
  {
   "cell_type": "markdown",
   "id": "e99bbf74",
   "metadata": {},
   "source": [
    "### Middle aged\n"
   ]
  },
  {
   "cell_type": "markdown",
   "id": "93e961b8",
   "metadata": {},
   "source": [
    "We look at ages 31 to 59 inclusive:"
   ]
  },
  {
   "cell_type": "code",
   "execution_count": 70,
   "id": "e85ef148",
   "metadata": {},
   "outputs": [
    {
     "name": "stdout",
     "output_type": "stream",
     "text": [
      "[0.09803922 0.11688312 0.12162162 0.16380952 0.20684411 0.18683652\n",
      " 0.21090047 0.19490255 0.28628389 0.28921079]\n",
      "[2000 2002 2004 2006 2008 2010 2012 2014 2016 2019]\n",
      "[ 969. 1155.  962. 1050. 1315. 1413. 1266. 1334. 1254. 2002.]\n",
      "[[1.000e+00 2.000e+03]\n",
      " [1.000e+00 2.002e+03]\n",
      " [1.000e+00 2.004e+03]\n",
      " [1.000e+00 2.006e+03]\n",
      " [1.000e+00 2.008e+03]\n",
      " [1.000e+00 2.010e+03]\n",
      " [1.000e+00 2.012e+03]\n",
      " [1.000e+00 2.014e+03]\n",
      " [1.000e+00 2.016e+03]\n",
      " [1.000e+00 2.019e+03]]\n"
     ]
    }
   ],
   "source": [
    "diabpropsnonzeromiddleage = np.array([])\n",
    "weightsdiabmiddleage = np.array([])\n",
    "for i in range(len(demoa1cfpg_vars)):\n",
    "    middleage_mask = (demoa1cfpg_vars[i]['RIDAGEYR'] >= 31) & (demoa1cfpg_vars[i]['RIDAGEYR'] <=59)\n",
    "    all_middleage = demoa1cfpg_vars[i][middleage_mask]\n",
    "    diabpropsnonzeromiddleage = np.append(diabpropsnonzeromiddleage,demoa1cfpg_vars[i][middleage_mask]['col2'].value_counts(normalize=True).get(1,0))\n",
    "    weightsdiabmiddleage = np.append(weightsdiabmiddleage, (all_middleage.shape[0]))\n",
    "print(diabpropsnonzeromiddleage)\n",
    "print(years2)\n",
    "print(weightsdiabmiddleage)\n",
    "Xdiab = sm.add_constant(years2)\n",
    "print(Xdiab)\n",
    "    #print(demoa1cfpg_vars[i].shape[0])\n",
    "    #print(demoa1cfpg_vars[i][demoa1cfpg_vars[i]['col2'] >= 1].shape[0])"
   ]
  },
  {
   "cell_type": "code",
   "execution_count": 71,
   "id": "d3609063",
   "metadata": {},
   "outputs": [
    {
     "name": "stdout",
     "output_type": "stream",
     "text": [
      "                 Results: Weighted least squares\n",
      "=================================================================\n",
      "Model:              WLS              Adj. R-squared:     0.888   \n",
      "Dependent Variable: y                AIC:                -45.6405\n",
      "Date:               2025-07-26 09:55 BIC:                -45.0353\n",
      "No. Observations:   10               Log-Likelihood:     24.820  \n",
      "Df Model:           1                F-statistic:        72.26   \n",
      "Df Residuals:       8                Prob (F-statistic): 2.81e-05\n",
      "R-squared:          0.900            Scale:              0.63613 \n",
      "------------------------------------------------------------------\n",
      "            Coef.    Std.Err.     t     P>|t|    [0.025    0.975] \n",
      "------------------------------------------------------------------\n",
      "const      -19.8748    2.3614  -8.4164  0.0000  -25.3203  -14.4293\n",
      "x1           0.0100    0.0012   8.5003  0.0000    0.0073    0.0127\n",
      "-----------------------------------------------------------------\n",
      "Omnibus:              1.329        Durbin-Watson:          2.528 \n",
      "Prob(Omnibus):        0.515        Jarque-Bera (JB):       0.179 \n",
      "Skew:                 -0.321       Prob(JB):               0.915 \n",
      "Kurtosis:             3.126        Condition No.:          671239\n",
      "=================================================================\n",
      "Notes:\n",
      "[1] Standard Errors assume that the covariance matrix of the\n",
      "errors is correctly specified.\n",
      "[2] The condition number is large, 6.71e+05. This might indicate\n",
      "that there are strong multicollinearity or other numerical\n",
      "problems.\n"
     ]
    },
    {
     "name": "stderr",
     "output_type": "stream",
     "text": [
      "/opt/anaconda3/envs/erdos_spring_2025/lib/python3.12/site-packages/scipy/stats/_axis_nan_policy.py:430: UserWarning: `kurtosistest` p-value may be inaccurate with fewer than 20 observations; only n=10 observations were given.\n",
      "  return hypotest_fun_in(*args, **kwds)\n"
     ]
    }
   ],
   "source": [
    "modeldiabmiddleage = sm.WLS(diabpropsnonzeromiddleage, Xdiab, weights=weightsdiabmiddleage).fit()\n",
    "#modeldiab = sm.OLS(diabpropsnonzero, Xdiab).fit()\n",
    "print(modeldiabmiddleage.summary2())\n",
    "trendlinediabmiddleage = modeldiabmiddleage.predict(Xdiab)"
   ]
  },
  {
   "cell_type": "code",
   "execution_count": 72,
   "id": "acd7bedf",
   "metadata": {},
   "outputs": [
    {
     "name": "stdout",
     "output_type": "stream",
     "text": [
      "y = -19.874825982622742 + 0.009985803418447904x\n",
      "p-value = 2.8145333562557115e-05\n"
     ]
    }
   ],
   "source": [
    "print(f\"y = {modeldiabmiddleage.params[0]} + {modeldiabmiddleage.params[1]}x\")\n",
    " #printing p value of slope\")\n",
    "print(f\"p-value = {modeldiabmiddleage.pvalues[1]}\")"
   ]
  },
  {
   "cell_type": "code",
   "execution_count": 73,
   "id": "d369a137",
   "metadata": {},
   "outputs": [
    {
     "data": {
      "image/png": "[encoded data removed]",
      "text/plain": [
       "<Figure size 640x480 with 1 Axes>"
      ]
     },
     "metadata": {},
     "output_type": "display_data"
    }
   ],
   "source": [
    "plt.plot(years2, diabpropsnonzeromiddleage, 'o', label='data')\n",
    "plt.plot(years2, trendlinediabmiddleage, linestyle ='--',color = 'purple' ,label='Trend line')\n",
    "plt.xticks(years2)\n",
    "plt.xlabel('Year')\n",
    "plt.ylabel('Proportion of diabetes')\n",
    "plt.title('Proportion of diabetes by year middleage')\n",
    "plt.legend()\n",
    "plt.show()"
   ]
  },
  {
   "cell_type": "markdown",
   "id": "6152a6e0",
   "metadata": {},
   "source": [
    "### Elderly"
   ]
  },
  {
   "cell_type": "code",
   "execution_count": 74,
   "id": "3b40aa94",
   "metadata": {},
   "outputs": [
    {
     "ename": "SyntaxError",
     "evalue": "invalid syntax (2409914811.py, line 1)",
     "output_type": "error",
     "traceback": [
      "\u001b[0;36m  Cell \u001b[0;32mIn[74], line 1\u001b[0;36m\u001b[0m\n\u001b[0;31m    We look at elder, ages 60 to 84 inclusive\u001b[0m\n\u001b[0m       ^\u001b[0m\n\u001b[0;31mSyntaxError\u001b[0m\u001b[0;31m:\u001b[0m invalid syntax\n"
     ]
    }
   ],
   "source": [
    "We look at elder, ages 60 to 84 inclusive"
   ]
  },
  {
   "cell_type": "code",
   "execution_count": 75,
   "id": "df027468",
   "metadata": {},
   "outputs": [
    {
     "name": "stdout",
     "output_type": "stream",
     "text": [
      "[0.28456376 0.30254351 0.31668857 0.38975155 0.41929134 0.40904419\n",
      " 0.40537383 0.39110604 0.48454746 0.50608584]\n",
      "[2000 2002 2004 2006 2008 2010 2012 2014 2016 2019]\n",
      "[ 745.  747.  761.  644. 1016.  973.  856.  877.  906. 1561.]\n",
      "[[1.000e+00 2.000e+03]\n",
      " [1.000e+00 2.002e+03]\n",
      " [1.000e+00 2.004e+03]\n",
      " [1.000e+00 2.006e+03]\n",
      " [1.000e+00 2.008e+03]\n",
      " [1.000e+00 2.010e+03]\n",
      " [1.000e+00 2.012e+03]\n",
      " [1.000e+00 2.014e+03]\n",
      " [1.000e+00 2.016e+03]\n",
      " [1.000e+00 2.019e+03]]\n"
     ]
    }
   ],
   "source": [
    "diabpropsnonzeroelder = np.array([])\n",
    "weightsdiabelder = np.array([])\n",
    "for i in range(len(demoa1cfpg_vars)):\n",
    "    elder_mask = (demoa1cfpg_vars[i]['RIDAGEYR'] >= 60) & (demoa1cfpg_vars[i]['RIDAGEYR'] <=84)\n",
    "    all_elder = demoa1cfpg_vars[i][elder_mask]\n",
    "    diabpropsnonzeroelder = np.append(diabpropsnonzeroelder,demoa1cfpg_vars[i][elder_mask]['col2'].value_counts(normalize=True).get(1,0))\n",
    "    weightsdiabelder = np.append(weightsdiabelder, (all_elder.shape[0]))\n",
    "print(diabpropsnonzeroelder)\n",
    "print(years2)\n",
    "print(weightsdiabelder)\n",
    "Xdiab = sm.add_constant(years2)\n",
    "print(Xdiab)\n",
    "    #print(demoa1cfpg_vars[i].shape[0])\n",
    "    #print(demoa1cfpg_vars[i][demoa1cfpg_vars[i]['col2'] >= 1].shape[0])"
   ]
  },
  {
   "cell_type": "code",
   "execution_count": 76,
   "id": "f5eb5a2c",
   "metadata": {},
   "outputs": [
    {
     "name": "stdout",
     "output_type": "stream",
     "text": [
      "                 Results: Weighted least squares\n",
      "=================================================================\n",
      "Model:              WLS              Adj. R-squared:     0.858   \n",
      "Dependent Variable: y                AIC:                -40.6972\n",
      "Date:               2025-07-26 09:56 BIC:                -40.0920\n",
      "No. Observations:   10               Log-Likelihood:     22.349  \n",
      "Df Model:           1                F-statistic:        55.29   \n",
      "Df Residuals:       8                Prob (F-statistic): 7.36e-05\n",
      "R-squared:          0.874            Scale:              0.73950 \n",
      "------------------------------------------------------------------\n",
      "            Coef.    Std.Err.     t     P>|t|    [0.025    0.975] \n",
      "------------------------------------------------------------------\n",
      "const      -21.6373    2.9643  -7.2994  0.0001  -28.4729  -14.8017\n",
      "x1           0.0110    0.0015   7.4358  0.0001    0.0076    0.0144\n",
      "-----------------------------------------------------------------\n",
      "Omnibus:              0.818        Durbin-Watson:          1.600 \n",
      "Prob(Omnibus):        0.664        Jarque-Bera (JB):       0.212 \n",
      "Skew:                 -0.345       Prob(JB):               0.899 \n",
      "Kurtosis:             2.817        Condition No.:          660513\n",
      "=================================================================\n",
      "Notes:\n",
      "[1] Standard Errors assume that the covariance matrix of the\n",
      "errors is correctly specified.\n",
      "[2] The condition number is large, 6.61e+05. This might indicate\n",
      "that there are strong multicollinearity or other numerical\n",
      "problems.\n"
     ]
    },
    {
     "name": "stderr",
     "output_type": "stream",
     "text": [
      "/opt/anaconda3/envs/erdos_spring_2025/lib/python3.12/site-packages/scipy/stats/_axis_nan_policy.py:430: UserWarning: `kurtosistest` p-value may be inaccurate with fewer than 20 observations; only n=10 observations were given.\n",
      "  return hypotest_fun_in(*args, **kwds)\n"
     ]
    }
   ],
   "source": [
    "modeldiabelder = sm.WLS(diabpropsnonzeroelder, Xdiab, weights=weightsdiabelder).fit()\n",
    "#modeldiab = sm.OLS(diabpropsnonzero, Xdiab).fit()\n",
    "print(modeldiabelder.summary2())\n",
    "trendlinediabelder = modeldiabelder.predict(Xdiab)"
   ]
  },
  {
   "cell_type": "code",
   "execution_count": 77,
   "id": "27786c45",
   "metadata": {},
   "outputs": [
    {
     "name": "stdout",
     "output_type": "stream",
     "text": [
      "y = -21.63729293011313 + 0.010964677105212508x\n",
      "p-value = 7.363276213322716e-05\n"
     ]
    }
   ],
   "source": [
    "print(f\"y = {modeldiabelder.params[0]} + {modeldiabelder.params[1]}x\")\n",
    " #printing p value of slope\")\n",
    "print(f\"p-value = {modeldiabelder.pvalues[1]}\")"
   ]
  },
  {
   "cell_type": "code",
   "execution_count": 78,
   "id": "07a6742f",
   "metadata": {},
   "outputs": [
    {
     "data": {
      "image/png": "[encoded data removed]",
      "text/plain": [
       "<Figure size 640x480 with 1 Axes>"
      ]
     },
     "metadata": {},
     "output_type": "display_data"
    }
   ],
   "source": [
    "plt.plot(years2, diabpropsnonzeroelder, 'o', label='data')\n",
    "plt.plot(years2, trendlinediabelder, linestyle ='--',color = 'purple' ,label='Trend line')\n",
    "plt.xticks(years2)\n",
    "plt.xlabel('Year')\n",
    "plt.ylabel('Proportion of diabetes')\n",
    "plt.title('Proportion of diabetes by year elder')\n",
    "plt.legend()\n",
    "plt.show()"
   ]
  },
  {
   "cell_type": "markdown",
   "id": "c2f08fc6",
   "metadata": {},
   "source": []
  },
  {
   "cell_type": "markdown",
   "id": "21047a30",
   "metadata": {},
   "source": [
    "## Association between CKD and diabetes"
   ]
  },
  {
   "cell_type": "markdown",
   "id": "e2c8be9a",
   "metadata": {},
   "source": [
    "the association will be shown for all ages"
   ]
  },
  {
   "cell_type": "code",
   "execution_count": 82,
   "id": "46693ffa",
   "metadata": {},
   "outputs": [
    {
     "name": "stdout",
     "output_type": "stream",
     "text": [
      "[0.13038436 0.14135496 0.14000644 0.15902878 0.17402431 0.15097953\n",
      " 0.16663847 0.16075027 0.15782644 0.17071336]\n",
      "[0.00867824 0.01665675 0.01170351 0.02454374 0.04369919 0.03849372\n",
      " 0.0340197  0.02862254 0.05043647 0.0681074 ]\n"
     ]
    }
   ],
   "source": [
    "print(ckdstagenonzeropropsallages)\n",
    "\n",
    "print(diabpropsnonzeroallages)"
   ]
  },
  {
   "cell_type": "code",
   "execution_count": 83,
   "id": "92498d4f",
   "metadata": {},
   "outputs": [
    {
     "name": "stdout",
     "output_type": "stream",
     "text": [
      "Slope: 0.6088719777721674\n",
      "Intercept: 0.13538471272111013\n"
     ]
    }
   ],
   "source": [
    "from sklearn.linear_model import LinearRegression\n",
    "\n",
    "X3 = diabpropsnonzeroallages.reshape(-1, 1)\n",
    "y3 = ckdstagenonzeropropsallages\n",
    "\n",
    "reg3 = LinearRegression().fit(X3, y3)\n",
    "print(\"Slope:\", reg3.coef_[0])\n",
    "print(\"Intercept:\", reg3.intercept_)\n",
    "\n",
    "#plt.scatter(X3, y3)\n",
    "#plt.plot(X3, reg3.predict(X3), color='red', linewidth=2)\n",
    "#plt.show()"
   ]
  },
  {
   "cell_type": "code",
   "execution_count": 84,
   "id": "b31ad067",
   "metadata": {},
   "outputs": [
    {
     "name": "stdout",
     "output_type": "stream",
     "text": [
      "                            OLS Regression Results                            \n",
      "==============================================================================\n",
      "Dep. Variable:                      y   R-squared:                       0.623\n",
      "Model:                            OLS   Adj. R-squared:                  0.576\n",
      "Method:                 Least Squares   F-statistic:                     13.22\n",
      "Date:                Sat, 26 Jul 2025   Prob (F-statistic):            0.00663\n",
      "Time:                        10:01:04   Log-Likelihood:                 33.706\n",
      "No. Observations:                  10   AIC:                            -63.41\n",
      "Df Residuals:                       8   BIC:                            -62.81\n",
      "Df Model:                           1                                         \n",
      "Covariance Type:            nonrobust                                         \n",
      "==============================================================================\n",
      "                 coef    std err          t      P>|t|      [0.025      0.975]\n",
      "------------------------------------------------------------------------------\n",
      "const          0.1354      0.006     21.888      0.000       0.121       0.150\n",
      "x1             0.6089      0.167      3.636      0.007       0.223       0.995\n",
      "==============================================================================\n",
      "Omnibus:                        4.772   Durbin-Watson:                   1.712\n",
      "Prob(Omnibus):                  0.092   Jarque-Bera (JB):                1.271\n",
      "Skew:                           0.281   Prob(JB):                        0.530\n",
      "Kurtosis:                       1.347   Cond. No.                         57.0\n",
      "==============================================================================\n",
      "\n",
      "Notes:\n",
      "[1] Standard Errors assume that the covariance matrix of the errors is correctly specified.\n"
     ]
    },
    {
     "name": "stderr",
     "output_type": "stream",
     "text": [
      "/opt/anaconda3/envs/erdos_spring_2025/lib/python3.12/site-packages/scipy/stats/_axis_nan_policy.py:430: UserWarning: `kurtosistest` p-value may be inaccurate with fewer than 20 observations; only n=10 observations were given.\n",
      "  return hypotest_fun_in(*args, **kwds)\n"
     ]
    }
   ],
   "source": [
    "X3c = sm.add_constant(np.array(diabpropsnonzeroallages))\n",
    "model3 = sm.OLS( np.array(y3),X3c).fit()\n",
    "print(model3.summary())\n",
    "trendline3 = model3.predict(X3c)"
   ]
  },
  {
   "cell_type": "code",
   "execution_count": 85,
   "id": "81ad963d",
   "metadata": {},
   "outputs": [
    {
     "name": "stdout",
     "output_type": "stream",
     "text": [
      "y = 0.13538471272111005 + 0.608871977772169x\n",
      "p-value = 0.006628656382443377\n",
      "R^2 = 0.622986560532802\n"
     ]
    }
   ],
   "source": [
    "print(f\"y = {model3.params[0]} + {model3.params[1]}x\")\n",
    " #printing p value of slope\")\n",
    "print(f\"p-value = {model3.pvalues[1]}\")\n",
    " #print R^2\n",
    "print(f\"R^2 = {model3.rsquared}\")"
   ]
  },
  {
   "cell_type": "code",
   "execution_count": 87,
   "id": "5124ea18",
   "metadata": {},
   "outputs": [
    {
     "data": {
      "image/png": "[encoded data removed]",
      "text/plain": [
       "<Figure size 640x480 with 1 Axes>"
      ]
     },
     "metadata": {},
     "output_type": "display_data"
    }
   ],
   "source": [
    "plt.scatter(X3, y3)\n",
    "plt.plot(diabpropsnonzeroallages, trendline3, color='red', linewidth=2, label='Trend line')\n",
    "plt.xlabel('Proportion of diabetes')\n",
    "plt.ylabel('Proportion of CKD stage ≥ 1')\n",
    "plt.title('Proportion of diabetes vs. CKD stage ≥ 1')\n",
    "plt.show()"
   ]
  },
  {
   "cell_type": "code",
   "execution_count": null,
   "id": "a756ecfb",
   "metadata": {},
   "outputs": [],
   "source": []
  }
 ],
 "metadata": {
  "kernelspec": {
   "display_name": "erdos_spring_2025",
   "language": "python",
   "name": "python3"
  },
  "language_info": {
   "codemirror_mode": {
    "name": "ipython",
    "version": 3
   },
   "file_extension": ".py",
   "mimetype": "text/x-python",
   "name": "python",
   "nbconvert_exporter": "python",
   "pygments_lexer": "ipython3",
   "version": "3.12.8"
  }
 },
 "nbformat": 4,
 "nbformat_minor": 5
}
