{
 "cells": [
  {
   "cell_type": "markdown",
   "id": "1f2ca160",
   "metadata": {},
   "source": [
    "# This file will be used to study CKD, organized"
   ]
  },
  {
   "cell_type": "markdown",
   "id": "03abb602",
   "metadata": {},
   "source": [
    "## Prelminary installation and file info "
   ]
  },
  {
   "cell_type": "markdown",
   "id": "aa2ee061",
   "metadata": {},
   "source": [
    "First we import the packages we use:"
   ]
  },
  {
   "cell_type": "code",
   "execution_count": 2,
   "id": "c458c04b",
   "metadata": {},
   "outputs": [],
   "source": [
    "import pandas as pd\n",
    "import numpy as np\n",
    "import matplotlib.pyplot as plt"
   ]
  },
  {
   "cell_type": "markdown",
   "id": "baca894e",
   "metadata": {},
   "source": [
    "### File summary:\n",
    "For the files we use, they are organized in `proj_files_csv` folder of this repository. \n",
    "proj_files_csv has 5 folders: `democsv`, `biocsv`, `albucsv`, `a1ccsv`, `FPGcsv`. Each of these has csv files corresponding to years we are interested in. "
   ]
  },
  {
   "cell_type": "code",
   "execution_count": 3,
   "id": "c78f0532",
   "metadata": {},
   "outputs": [],
   "source": [
    "years = ['9900', '0102', '0304', '0506', '0708','0910','1112','1314','1516','1720']"
   ]
  },
  {
   "cell_type": "markdown",
   "id": "67b0f71f",
   "metadata": {},
   "source": [
    "#### Here will be some information of what files are used for what. Note all the csv files have a SEQN column which is the identification number for each participant.\n",
    "\n",
    "For both CKD and Diabetes:\n",
    "-   `democsv`: Folder has demographics data, will use RIDAGEYR column for age and RIAGENDR column for gender \n",
    "\n",
    "For only CKD:\n",
    "-   `biocsv` is folder with the standard biochemistry profile files. From these we use the LBXSCR column which says the serum creatinine in mg/dL\n",
    "-   `albucsv` is the folder with files used for the albumin creatinine ratio. URXUMS is the urine albumin in mg/L. URXCRS is the urine creatinine in umol/L. We can divide by 1000 to get mmol/L Then we will take albumin divided by creatinine to get the ratio in (mg/mmol)\n",
    "\n",
    "For only Diabetes:\n",
    "-   `a1ccsv` is the folder with files for the a1c. DIQ010, DIQ160 columns are the participants reporting if they've been diagnosed for diabetes and prediabetes, respectively. 1 is yes, 2 is no, 3 is borderline, 7 is refused, 9 is don't know. DIQ280 is the column with the a1c value\n",
    "-   `FPGcsv` is the folder with the fasting plasma glucose files. The LBXGLU column has the fasting plasma glucose measured in (mg/dL)\n",
    "\n"
   ]
  },
  {
   "cell_type": "markdown",
   "id": "a2bdccb2",
   "metadata": {},
   "source": [
    "#### Here we'll get the demographic data since it will be used for both"
   ]
  },
  {
   "cell_type": "code",
   "execution_count": 4,
   "id": "fa866143",
   "metadata": {},
   "outputs": [
    {
     "name": "stdout",
     "output_type": "stream",
     "text": [
      "The demo_vars list contains dataframes for each year. It has length:  10\n",
      "\n",
      " The first dataframe in the list (for year 1999-2000) looks like this:\n",
      "   SEQN  RIAGENDR  RIDAGEYR\n",
      "0   1.0       2.0       2.0\n",
      "1   2.0       1.0      77.0\n",
      "2   3.0       2.0      10.0\n",
      "3   4.0       1.0       1.0\n",
      "4   5.0       1.0      49.0\n",
      "Note RIAGENDR gender (1 male, 2 female) and RIDAGEYR is age (in years)).\n",
      "\n",
      " In addition, SEQN is a unique identifier for each participant in the survey.\n"
     ]
    }
   ],
   "source": [
    "demo_vars = []\n",
    "for y in years:\n",
    "    df  = pd.read_csv(f'proj_files_csv/democsv/demo{y}.csv', usecols=['SEQN', 'RIDAGEYR', 'RIAGENDR'])\n",
    "    demo_vars.append(df)\n",
    "\n",
    "#print(demo_vars)\n",
    "#print(len(demo_vars))\n",
    "\n",
    "print(\"The demo_vars list contains dataframes for each year. It has length: \", len(demo_vars))\n",
    "print(\"\\n The first dataframe in the list (for year 1999-2000) looks like this:\") \n",
    "print(demo_vars[0].head())\n",
    "print(\"Note RIAGENDR gender (1 male, 2 female) and RIDAGEYR is age (in years)).\")\n",
    "print( \"\\n In addition, SEQN is a unique identifier for each participant in the survey.\")"
   ]
  },
  {
   "cell_type": "markdown",
   "id": "801f4c06",
   "metadata": {},
   "source": [
    "## CKD Data and analysis"
   ]
  },
  {
   "cell_type": "markdown",
   "id": "0f3aa42d",
   "metadata": {},
   "source": [
    "#### We'll get the serum creatinine and urine albumin creatinine ratio data next."
   ]
  },
  {
   "cell_type": "markdown",
   "id": "3d8f2834",
   "metadata": {},
   "source": [
    "This is the serum creatinine data. "
   ]
  },
  {
   "cell_type": "code",
   "execution_count": 5,
   "id": "05922d81",
   "metadata": {},
   "outputs": [
    {
     "name": "stdout",
     "output_type": "stream",
     "text": [
      "\n",
      "The bio_vars list contains dataframes for each year. It has length:  10\n",
      "\n",
      "The first dataframe in the list (for year 1999-2000) looks like this:\n",
      "   SEQN  LBXSCR\n",
      "0   2.0     0.7\n",
      "1   5.0     0.8\n",
      "2   6.0     0.5\n",
      "3   7.0     0.6\n",
      "4   8.0     0.3\n",
      "Note LBXSCR is the serum creatinine level (in mg/dL).\n",
      "\n",
      "In addition, SEQN is a unique identifier for each participant in the survey.\n"
     ]
    }
   ],
   "source": [
    "bio_vars = []\n",
    "for y in years:\n",
    "    df  = pd.read_csv(f'proj_files_csv/biocsv/bio{y}.csv', usecols=['SEQN', 'LBXSCR'])\n",
    "    bio_vars.append(df)\n",
    "\n",
    "print(\"\\nThe bio_vars list contains dataframes for each year. It has length: \", len(bio_vars))\n",
    "print(\"\\nThe first dataframe in the list (for year 1999-2000) looks like this:\")\n",
    "print(bio_vars[0].head())\n",
    "print(\"Note LBXSCR is the serum creatinine level (in mg/dL).\")\n",
    "print(\"\\nIn addition, SEQN is a unique identifier for each participant in the survey.\")\n",
    "\n",
    "#print(bio_vars)\n",
    "#print(len(bio_vars))"
   ]
  },
  {
   "cell_type": "markdown",
   "id": "3ba71633",
   "metadata": {},
   "source": [
    "Here is the albuminuria data for each year:"
   ]
  },
  {
   "cell_type": "code",
   "execution_count": 12,
   "id": "e7510935",
   "metadata": {},
   "outputs": [
    {
     "name": "stdout",
     "output_type": "stream",
     "text": [
      "\n",
      "The albu_vars list contains dataframes for each year. It has length:  10\n",
      "\n",
      "The first dataframe in the list (for year 1999-2000) looks like this:\n",
      "   SEQN  URXUMS   URXCRS  URXCRSnew  albcretratio\n",
      "0   2.0     9.1  12818.0     12.818      0.709939\n",
      "1   3.0    10.4  11138.0     11.138      0.933740\n",
      "2   5.0     6.1  15205.0     15.205      0.401184\n",
      "3   6.0     5.0  10962.0     10.962      0.456121\n",
      "4   7.0     6.7  11315.0     11.315      0.592134\n",
      "Note URXUMS is the urine albumin level (in mg/L) and URXCRS is the urine creatinine level (in umol/L).\n",
      " URXCRSnew is the urine creatinine level converted to mmol/L.\n",
      "\n",
      "The albcretratio is the albumin to creatinine ratio (in mg/mmol).\n"
     ]
    }
   ],
   "source": [
    "albu_vars = []\n",
    "for y in years:\n",
    "    df  = pd.read_csv(f'proj_files_csv/albucsv/albu{y}.csv', usecols=['SEQN', 'URXUMS','URXCRS' ])\n",
    "    df['URXCRSnew'] = df['URXCRS']/1000\n",
    "    df['albcretratio'] = df['URXUMS']/df['URXCRSnew']\n",
    "    #df = df[['SEQN', 'albcretratio']]\n",
    "    albu_vars.append(df)\n",
    "\n",
    "print(\"\\nThe albu_vars list contains dataframes for each year. It has length: \", len(albu_vars))\n",
    "print(\"\\nThe first dataframe in the list (for year 1999-2000) looks like this:\")\n",
    "print(albu_vars[0].head())\n",
    "#print(albu_vars[0].columns)\n",
    "print(\"Note URXUMS is the urine albumin level (in mg/L) and URXCRS is the urine creatinine level (in umol/L).\\n URXCRSnew is the urine creatinine level converted to mmol/L.\")\n",
    "\n",
    "print(\"\\nThe albcretratio is the albumin to creatinine ratio (in mg/mmol).\")\n",
    "\n",
    "\n",
    "#print(albu_vars)\n",
    "#print(len(albu_vars))"
   ]
  },
  {
   "cell_type": "markdown",
   "id": "777b4bb6",
   "metadata": {},
   "source": [
    "Merging the dataframes, we will use SEQN, serum creatinine, and albumin to creatinine ratio as the main variables of interest.:"
   ]
  },
  {
   "cell_type": "code",
   "execution_count": null,
   "id": "8195c4f3",
   "metadata": {},
   "outputs": [],
   "source": []
  },
  {
   "cell_type": "markdown",
   "id": "d692a76a",
   "metadata": {},
   "source": [
    "### All ages"
   ]
  },
  {
   "cell_type": "code",
   "execution_count": null,
   "id": "483d8ed3",
   "metadata": {},
   "outputs": [],
   "source": []
  },
  {
   "cell_type": "markdown",
   "id": "144a4f2c",
   "metadata": {},
   "source": [
    "### Youth"
   ]
  },
  {
   "cell_type": "code",
   "execution_count": null,
   "id": "f6c7dc90",
   "metadata": {},
   "outputs": [],
   "source": []
  },
  {
   "cell_type": "markdown",
   "id": "d4366ad7",
   "metadata": {},
   "source": [
    "### Middle aged\n"
   ]
  },
  {
   "cell_type": "code",
   "execution_count": null,
   "id": "a29e9c27",
   "metadata": {},
   "outputs": [],
   "source": []
  },
  {
   "cell_type": "markdown",
   "id": "47dca625",
   "metadata": {},
   "source": [
    "### Elderly"
   ]
  },
  {
   "cell_type": "code",
   "execution_count": null,
   "id": "1fbcc8d0",
   "metadata": {},
   "outputs": [],
   "source": []
  },
  {
   "cell_type": "markdown",
   "id": "26481eaf",
   "metadata": {},
   "source": [
    "## Diabetes Data and Analysis"
   ]
  },
  {
   "cell_type": "code",
   "execution_count": null,
   "id": "fbe4cd5b",
   "metadata": {},
   "outputs": [],
   "source": []
  },
  {
   "cell_type": "markdown",
   "id": "8d970988",
   "metadata": {},
   "source": [
    "### All ages"
   ]
  },
  {
   "cell_type": "code",
   "execution_count": null,
   "id": "b3ed5753",
   "metadata": {},
   "outputs": [],
   "source": []
  },
  {
   "cell_type": "markdown",
   "id": "30d58e6a",
   "metadata": {},
   "source": [
    "### Youth"
   ]
  },
  {
   "cell_type": "code",
   "execution_count": null,
   "id": "7beb35e0",
   "metadata": {},
   "outputs": [],
   "source": []
  },
  {
   "cell_type": "markdown",
   "id": "e99bbf74",
   "metadata": {},
   "source": [
    "### Middle aged\n"
   ]
  },
  {
   "cell_type": "code",
   "execution_count": null,
   "id": "fb257bd5",
   "metadata": {},
   "outputs": [],
   "source": []
  },
  {
   "cell_type": "markdown",
   "id": "6152a6e0",
   "metadata": {},
   "source": [
    "### Elderly"
   ]
  },
  {
   "cell_type": "code",
   "execution_count": null,
   "id": "3b40aa94",
   "metadata": {},
   "outputs": [],
   "source": []
  },
  {
   "cell_type": "markdown",
   "id": "c2f08fc6",
   "metadata": {},
   "source": []
  }
 ],
 "metadata": {
  "kernelspec": {
   "display_name": "erdos_spring_2025",
   "language": "python",
   "name": "python3"
  },
  "language_info": {
   "codemirror_mode": {
    "name": "ipython",
    "version": 3
   },
   "file_extension": ".py",
   "mimetype": "text/x-python",
   "name": "python",
   "nbconvert_exporter": "python",
   "pygments_lexer": "ipython3",
   "version": "3.12.8"
  }
 },
 "nbformat": 4,
 "nbformat_minor": 5
}
